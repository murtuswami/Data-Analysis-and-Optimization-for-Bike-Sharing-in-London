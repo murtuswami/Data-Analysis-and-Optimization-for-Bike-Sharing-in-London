{
 "cells": [
  {
   "cell_type": "markdown",
   "metadata": {},
   "source": [
    "# A Greedy Heuristic for routing assignment \n",
    "\n",
    "Using the [Minimum Cost Flow Problem](/Jupyter%20notebooks/Inventory_Rebalancing_With_Minimum_Cost_Flow.ipynb) we have defined exhanges between supply and demand nodes in such a way that the net demand at each bikestations returns to 0 at the end of a given day. These exchanges are at an approximated minimum value. We now want to assign vehicles to traverse the network of bikestations to carry out these exchanges. We took a look at doing this using a [network transformation and google OR-tools](/Jupyter%20notebooks/Route_Rebalancing_Using_TSP_and_Google_ORtools.ipynb). The approach had limitations and couldn't be extended to multiple vehicles. \n",
    "\n",
    "Instead we will now introduce a greedy heuristic method for approximating the minimum cost route on our bipartite network which performs all the necessary exchanges for returning the demand in the  network to its original state. The solution to this problem will be useful for the bike station companies who are looking to send vehicles out to rebalance the bike stations at a low cost. \n",
    "\n",
    "## Greedy Heuristic \n",
    "\n",
    "We want a way of traversing the network so that all of the demand is satisfied at an approximated minimum cost. Consider the case of one vehicle starting at a supply node. There are one or more 'exchange' edges to demand nodes from that supply node that it can take. These 'exchange' edges are what we calculated using the minimum cost flow problem. \n",
    "\n",
    "So the vehicle at the supply node can travel along the shortest available exchange edge, or nearest demand node that is served from that supply node. It can make a note that this edge has been traversed and if all the exchange edges have been traversed it marks the given supply node as satisfied. \n",
    "\n",
    "Now the vehicle is at a demand node. It can calculate the nearest unsatisfied supply node and return to it. It then repeats the process until all of the supply nodes are satsified. \n",
    "\n",
    "This is the basis for our greedy heursitic, we track the unsatisfied supply nodes and traverse continue moving to the nearest edges until the problem all the supply nodes are satisfied. \n",
    "\n",
    "The problem is easily extendable to multiple vehicles. We simply set a maximum distance that a vehcile can travel and stop the algorithm for the vehicle once it has reached its maximum travel distance. We then start the algorithm for a new vehicle from a random supply node with the left over unsatisfied supply nodes. \n"
   ]
  },
  {
   "cell_type": "markdown",
   "metadata": {},
   "source": [
    "## Implementation \n",
    "\n",
    "We first load in the data on stationEdges, which is the edges between all nodes and their weights. \n",
    "We also load in the keyEdges which are the edges which must be traversed in order to bring the net demand in the network back to 0. See the [Minimum Cost Flow Problem](/Jupyter%20notebooks/Inventory_Rebalancing_With_Minimum_Cost_Flow.ipynb) notebook for how this was calculated. "
   ]
  },
  {
   "cell_type": "code",
   "execution_count": 256,
   "metadata": {},
   "outputs": [],
   "source": [
    "import pandas as pd \n",
    "import pickle \n",
    "import os \n",
    "import geopandas as gpd\n",
    "import pyproj\n",
    "import copy\n",
    "\n",
    "stationEdges = pd.read_pickle(os.path.join(os.getcwd(),r'pickles\\stationEdges.pkl'))\n",
    "\n",
    "with open(os.path.join(os.getcwd(),r'pickles\\keyEdges.pkl'), 'rb') as fp:\n",
    "    keyEdges = pickle.load(fp)\n"
   ]
  },
  {
   "cell_type": "markdown",
   "metadata": {},
   "source": [
    "We also load in the demand and supply nodes daataframes "
   ]
  },
  {
   "cell_type": "code",
   "execution_count": 257,
   "metadata": {},
   "outputs": [],
   "source": [
    "demand =  pd.read_pickle(os.path.join(os.getcwd(),r'pickles\\demand.pkl'))\n",
    "supply =  pd.read_pickle(os.path.join(os.getcwd(),r'pickles\\supply.pkl'))"
   ]
  },
  {
   "cell_type": "markdown",
   "metadata": {},
   "source": [
    "We convert the demand and supply nodes to GeoDataFrames with the london local coordinate system for easy calculation. \n",
    "We also set the index to the station id. "
   ]
  },
  {
   "cell_type": "code",
   "execution_count": 258,
   "metadata": {},
   "outputs": [],
   "source": [
    "demand = gpd.GeoDataFrame(demand,crs=\"EPSG:4326\",geometry=demand['geometry'] )\n",
    "supply= gpd.GeoDataFrame(supply,crs=\"EPSG:4326\",geometry=supply['geometry'] )\n",
    "demand = demand.set_index('id')\n",
    "supply = supply.set_index('id')\n",
    "demand = demand.to_crs(crs = pyproj.CRS(\"EPSG:27700\"))\n",
    "supply = supply.to_crs(crs = pyproj.CRS(\"EPSG:27700\"))"
   ]
  },
  {
   "cell_type": "markdown",
   "metadata": {},
   "source": [
    "Next we create a dictionary to track the unsatisfied nodes. \n",
    "This dictionary is in the form (supplyid: [$d_1,d_2,d_3$]), where $d_1,\\dots,d_n$ are the demand nodes this suppy node must exchange with. \n",
    "\n",
    "We do this in the following way \n",
    "\n",
    "* Update unsat with the suppy nodes key and an empty array\n",
    "* For each of the supply nodes append the demand nodes it is connected to along with the distance to the demand node (node,distance)\n",
    "* Sort each of the unsat supply -> demand arrays by distance \n",
    "* Remove the weight to the edge "
   ]
  },
  {
   "cell_type": "code",
   "execution_count": 259,
   "metadata": {},
   "outputs": [],
   "source": [
    "sat = []\n",
    "unsat = {}\n",
    "for x in keyEdges.keys():\n",
    "    unsat.update({x[0]:[]})\n",
    "for x in keyEdges.keys():\n",
    "    unsat.get(x[0]).append((x[1],keyEdges.get(x)))\n",
    "for x in unsat.keys():\n",
    "    unsat.get(x).sort(key = lambda x: x[1])\n",
    "for x in unsat.keys():\n",
    "    unsat.update({x:list(map(lambda x : x[0],unsat.get(x)))})\n"
   ]
  },
  {
   "cell_type": "markdown",
   "metadata": {},
   "source": [
    "Lets take a look at a sample entry. We have the supply node along with the demand nodes it needs to serve sorted by distance."
   ]
  },
  {
   "cell_type": "code",
   "execution_count": 260,
   "metadata": {},
   "outputs": [
    {
     "data": {
      "text/plain": [
       "('84', ['364', '98'])"
      ]
     },
     "execution_count": 260,
     "metadata": {},
     "output_type": "execute_result"
    }
   ],
   "source": [
    "list(unsat.keys())[0], unsat.get(list(unsat.keys())[3])"
   ]
  },
  {
   "cell_type": "markdown",
   "metadata": {},
   "source": [
    "Next lets define a function that runs the heuristic for a single vehicle."
   ]
  },
  {
   "cell_type": "code",
   "execution_count": 261,
   "metadata": {},
   "outputs": [],
   "source": [
    "def greedy_route_heuristic(unsat,sat,start,max_route_length):\n",
    "    cur = start \n",
    "    total_length  = 0\n",
    "    route = [] \n",
    "    while len(unsat) != 0 or total_length >= max_route_length:\n",
    "        available_edges =  unsat.get(cur) # get edges available from current supply node \n",
    "        to_demand = available_edges[0]    # get nearest demand node \n",
    "        cur_to_demand_length = stationEdges.loc[(cur,to_demand)]['weight'] # get distance from supply to nearest demand\n",
    "        if total_length + cur_to_demand_length > max_route_length: # ensure max length not exceeded\n",
    "            return unsat,sat,route,total_length\n",
    "            \n",
    "        ## Add supply-> demand to route \n",
    "        route.append(cur)\n",
    "        route.append(to_demand)\n",
    "        total_length += cur_to_demand_length\n",
    "\n",
    "        ## Remove traversed edge from unsat array. \n",
    "        available_edges.pop(0)\n",
    "        ##If array is empty mark supply node as satisfied \n",
    "        if len(available_edges) == 0:\n",
    "           unsat.pop(cur)\n",
    "           sat.append(cur)\n",
    "        \n",
    "        if len(unsat) ==0: #We just satsifed the last demand node, there is no need to return to a supply node\n",
    "            continue\n",
    "        else:  #Find the nearest supply node to return to add it to the route \n",
    "            demand_geom = demand.loc[to_demand].geometry\n",
    "            x = supply[supply.index.isin(list(unsat.keys()))]\n",
    "            distances_to_supply = x.distance(demand_geom)\n",
    "            next_distance = distances_to_supply.loc[distances_to_supply.idxmin()]\n",
    "\n",
    "            if total_length + next_distance > max_route_length: # Enforce max route for vehicle constraint \n",
    "                return unsat,sat,route,total_length\n",
    "            \n",
    "            next = distances_to_supply.idxmin()\n",
    "            total_length += next_distance\n",
    "            cur = next\n",
    "        \n",
    "    return unsat,sat,route,total_length\n",
    "        \n",
    "\n"
   ]
  },
  {
   "cell_type": "markdown",
   "metadata": {},
   "source": [
    "The function takes \n",
    "* Unsatisfied supply nodes dictionary\n",
    "* Satisfied supply node array\n",
    "* Supply node to start the algorithm from \n",
    "* The maximum route length \n",
    "\n",
    "The algorithm continues until there are no more unsatisfied nodes or the maximum route length is acheived. \n",
    "\n",
    "It starts with the current supply node and gets the list of demand edges that are not satisfied. \n",
    "It selects the nearest demand node from the unsatisfied edges along with the distance to that edge.\n",
    "It then performs a check to see if travelling to that node will violate the maximum distance for a vehicle. \n",
    "If it does not it will add the distance to the route length and and the nodes to the route array. \n",
    "\n",
    "Next it removes the demand node  from the list of unsatisfied available edges for that suppyl node and if the supply node has no more available nodes it marks it as satisfied. \n",
    "\n",
    "Next it performs a check to see if we just satisfied the last possible supply edge, if it does it skips returning to the nearest unsatisfied supply edge as the algorithm will end on the next loop. \n",
    "\n",
    "Otherwise it finds the nearest unsatisfied supply node. If returning to it does not violate our maximum distance constraint it returns to it and adds the length and node ids to the route. \n",
    "\n",
    "Lastly it sets the next node to the nearest supply node we just calculated. \n",
    "\n",
    "If at anytime the algorithm terminates it returns the unsatsfied nodes, satisfied nodes along with the route and route length. \n",
    "\n"
   ]
  },
  {
   "cell_type": "markdown",
   "metadata": {},
   "source": [
    "### Solving with a single vehicle \n",
    "\n",
    "We run the algorithm with an excessively high maximum travel distance. This is equivelant to solving with a single vehicle. Lets see the output. "
   ]
  },
  {
   "cell_type": "code",
   "execution_count": 262,
   "metadata": {},
   "outputs": [
    {
     "data": {
      "text/plain": [
       "({}, 1273684.785954546)"
      ]
     },
     "execution_count": 262,
     "metadata": {},
     "output_type": "execute_result"
    }
   ],
   "source": [
    "unsatAfter,satAfter,route,route_length= greedy_route_heuristic(copy.deepcopy(unsat),copy.deepcopy(sat),list(unsat.keys())[0], 1300000)\n",
    "unsatAfter,route_length"
   ]
  },
  {
   "cell_type": "markdown",
   "metadata": {},
   "source": [
    "We can see that all nodes are satisfied and there is a single route length of  1273684.785954546."
   ]
  },
  {
   "cell_type": "code",
   "execution_count": 263,
   "metadata": {},
   "outputs": [],
   "source": [
    "def solve_routing_greedy_with_vehicle_distance_limit(u,vehicle_max_travel):\n",
    "    route_lengths = []\n",
    "    routes = [] \n",
    "    curUnsat = u\n",
    "    curSat = [] \n",
    "    \n",
    "    while len(curUnsat) != 0:\n",
    "        u,s,r,rl = greedy_route_heuristic(curUnsat,sat,list(curUnsat.keys())[0],vehicle_max_travel)\n",
    "        route_lengths.append(rl)\n",
    "        routes.append(r)\n",
    "    return routes,route_lengths,curUnsat\n",
    "\n"
   ]
  },
  {
   "cell_type": "code",
   "execution_count": 264,
   "metadata": {},
   "outputs": [
    {
     "data": {
      "text/plain": [
       "[1273684.785954546]"
      ]
     },
     "execution_count": 264,
     "metadata": {},
     "output_type": "execute_result"
    }
   ],
   "source": [
    "routes,route_lengths,u =solve_routing_greedy_with_vehicle_distance_limit(copy.deepcopy(unsat), 1300000)\n",
    "route_lengths\n"
   ]
  },
  {
   "cell_type": "markdown",
   "metadata": {},
   "source": [
    "## Solving with multiple vehicles \n",
    "\n",
    "We know that a single vehicle needs to travel 1273684.785954546 meters to completly rebalance all the inventory at a particular bike station. \n",
    "\n",
    "The company managing the bike stations would want find a the lowest number of vehicles necessary to balance all the bike stations in a specific time frame. Since we are looking over a 24 hour period, this could be from 0000 hrs to 04000-05000 hours so between 4 to 5 hours. \n",
    "\n",
    "Using our greedy heuristic, we can range over different maximum vehicle lengths and calculate the number of vehicles needed to solve the problem with each length. We also can get the approximated straight line length each of these vehicles would need to travel. \n",
    "\n",
    "We do the following\n",
    "* Starting with a base max_vehicle length of 50000, solve the routing problem with the greedy heuristic \n",
    "* Increment the max vehicle length by 50000 and solve the problem again. \n",
    "* Repeat until the maximum vehicle length is greater than 1300000 which is around what is needed to solve the problem with a single vehicle. "
   ]
  },
  {
   "cell_type": "code",
   "execution_count": 265,
   "metadata": {},
   "outputs": [],
   "source": [
    "\n",
    "one_vehicle_max = 1300000\n",
    "\n",
    "max_travel_per_vehicle = [] \n",
    "number_of_vehicles_needed = [] \n",
    "\n",
    "for x in range(50000,one_vehicle_max+50000,50000):\n",
    "    routes,route_lengths,u =solve_routing_greedy_with_vehicle_distance_limit(copy.deepcopy(unsat),x)\n",
    "    max_travel_per_vehicle.append(x)\n",
    "    number_of_vehicles_needed.append(len(route_lengths))\n",
    "    \n",
    "    "
   ]
  },
  {
   "cell_type": "markdown",
   "metadata": {},
   "source": [
    "Lets see the results. "
   ]
  },
  {
   "cell_type": "code",
   "execution_count": 266,
   "metadata": {},
   "outputs": [
    {
     "name": "stdout",
     "output_type": "stream",
     "text": [
      "max-vehicle-length no-vehicles-needed\n",
      "50000 26\n",
      "100000 13\n",
      "150000 9\n",
      "200000 7\n",
      "250000 6\n",
      "300000 5\n",
      "350000 4\n",
      "400000 4\n",
      "450000 3\n",
      "500000 3\n",
      "550000 3\n",
      "600000 3\n",
      "650000 2\n",
      "700000 2\n",
      "750000 2\n",
      "800000 2\n",
      "850000 2\n",
      "900000 2\n",
      "950000 2\n",
      "1000000 2\n",
      "1050000 2\n",
      "1100000 2\n",
      "1150000 2\n",
      "1200000 2\n",
      "1250000 2\n",
      "1300000 1\n"
     ]
    }
   ],
   "source": [
    "print(\"max-vehicle-length\",\"no-vehicles-needed\")\n",
    "for n,x in enumerate(range(50000,one_vehicle_max+50000,50000)):\n",
    "    print(x,number_of_vehicles_needed[n])\n"
   ]
  },
  {
   "cell_type": "markdown",
   "metadata": {},
   "source": [
    "Now we have to consider the time each of these vehicles would be taking. We see that the speed limit on a restricted road is approximately [48km/h or 48000m/h](https://www.autoexpress.co.uk/car-news/98575/uk-speed-limits-everything-you-need-to-know#:~:text=UK%20speed%20limits%20for%20buses,weighing%20up%20to%207.5%20tonnes%3A&text=Restricted%20road%3A%2030mph,-%E2%80%A2&text=Single%20carriageway%3A%2050mph,-%E2%80%A2&text=Dual%20carriageway%3A%2060mph,-%E2%80%A2). The maximum time is dependant on the maximum distance travelled by each vehicle. We can calculate with a number of vehicles how long it would take. \n",
    "\n"
   ]
  },
  {
   "cell_type": "code",
   "execution_count": 267,
   "metadata": {},
   "outputs": [
    {
     "name": "stdout",
     "output_type": "stream",
     "text": [
      "max-vehicle-length no-vehicles-needed Time-needed\n",
      "50000 26 1.0416666666666667\n",
      "100000 13 2.0833333333333335\n",
      "150000 9 3.125\n",
      "200000 7 4.166666666666667\n",
      "250000 6 5.208333333333333\n",
      "300000 5 6.25\n",
      "350000 4 7.291666666666667\n",
      "400000 4 8.333333333333334\n",
      "450000 3 9.375\n",
      "500000 3 10.416666666666666\n",
      "550000 3 11.458333333333334\n",
      "600000 3 12.5\n",
      "650000 2 13.541666666666666\n",
      "700000 2 14.583333333333334\n",
      "750000 2 15.625\n",
      "800000 2 16.666666666666668\n",
      "850000 2 17.708333333333332\n",
      "900000 2 18.75\n",
      "950000 2 19.791666666666668\n",
      "1000000 2 20.833333333333332\n",
      "1050000 2 21.875\n",
      "1100000 2 22.916666666666668\n",
      "1150000 2 23.958333333333332\n",
      "1200000 2 25.0\n",
      "1250000 2 26.041666666666668\n",
      "1300000 1 27.083333333333332\n"
     ]
    }
   ],
   "source": [
    "print(\"max-vehicle-length\",\"no-vehicles-needed\",\"Time-needed\")\n",
    "for n,x in enumerate(range(50000,one_vehicle_max+50000,50000)):\n",
    "    print(x,number_of_vehicles_needed[n], x/48000 )"
   ]
  },
  {
   "cell_type": "markdown",
   "metadata": {},
   "source": [
    "The only reasonable values that fall within our 4-5 hour time frame are between 7 to 26 vehicles. \n",
    "\n",
    "The following values are the most reasonable for rebalancing the bike station inventory. \n",
    "\n",
    "* 7 vehicles : 4.17 hrs \n",
    "* 9 vehicles : 3.125 hrs \n",
    "* 13 vehicles :2.08 hrs \n",
    "\n",
    "Since we are using straight line distances it is probably better to err on the side of caution and use 9-13 vehicles. It may also be more feasible to perform rebalancing every 3 -4 days rather than at the end of every single day."
   ]
  }
 ],
 "metadata": {
  "kernelspec": {
   "display_name": "op",
   "language": "python",
   "name": "op"
  },
  "language_info": {
   "codemirror_mode": {
    "name": "ipython",
    "version": 3
   },
   "file_extension": ".py",
   "mimetype": "text/x-python",
   "name": "python",
   "nbconvert_exporter": "python",
   "pygments_lexer": "ipython3",
   "version": "3.10.5"
  },
  "orig_nbformat": 4
 },
 "nbformat": 4,
 "nbformat_minor": 2
}
