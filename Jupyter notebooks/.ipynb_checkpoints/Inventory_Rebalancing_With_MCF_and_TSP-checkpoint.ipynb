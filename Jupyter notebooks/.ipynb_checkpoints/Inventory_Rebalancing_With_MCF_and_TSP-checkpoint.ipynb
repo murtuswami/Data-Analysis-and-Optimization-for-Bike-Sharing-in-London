{
 "cells": [
  {
   "cell_type": "markdown",
   "metadata": {},
   "source": [
    "# Inventory Reblancing Using Minimum Cost Flow and Travelling Salesman Problem. \n",
    "\n",
    "We have have introduced a method of estimating supply and demand at particular bikestations at the end of 24 hour and at the end of a week in [Estimating Demand and Supply ](./Estimating_Demand_and_Supply.ipynb). \n",
    "\n",
    "We [mapped this data](./Visualize_Supply_and_Demand_Using_Maps.ipynb) using folium and drew some useful insights on how the flow of demand and [supply changes in central london](./Inventory_Rebalancing_With_MCF_and_TSP.ipynb).\n",
    "\n",
    "\n",
    "The next stage of the project will look at reblancing the inventory at particular bike stations. At the beginning of a 24 hour day the net demand at all stations is 0. At the end of 24 hours bikes have moved between particular stations. The stations will either have a negative value indicating excess supply, or a positive value indicating excess demand. Companies running these stations usually used capacitated vehicles to exchange bikes between stations. We will refer to this as the reblancing process. Its aim is exchange bikes between stations at a minimum cost, with the end result being that all the stations net demand returns to 0. We can define the cost in this case as the straight line distance between stations. This is heuristic value but is a good starting point. \n",
    "\n",
    "## Minimum Cost Flow Problem for determining exchanges\n",
    "\n",
    "At the end of the day we have bike stations with demand and supply. Because of the way we formulated demand and supply, we know that the sum of all the demand in the network is 0.\n",
    "\n",
    "$$/sum{d}_n for n in nodes =0$$\n"
   ]
  }
 ],
 "metadata": {
  "kernelspec": {
   "display_name": "Python 3 (ipykernel)",
   "language": "python",
   "name": "python3"
  },
  "language_info": {
   "codemirror_mode": {
    "name": "ipython",
    "version": 3
   },
   "file_extension": ".py",
   "mimetype": "text/x-python",
   "name": "python",
   "nbconvert_exporter": "python",
   "pygments_lexer": "ipython3",
   "version": "3.10.5"
  }
 },
 "nbformat": 4,
 "nbformat_minor": 2
}
