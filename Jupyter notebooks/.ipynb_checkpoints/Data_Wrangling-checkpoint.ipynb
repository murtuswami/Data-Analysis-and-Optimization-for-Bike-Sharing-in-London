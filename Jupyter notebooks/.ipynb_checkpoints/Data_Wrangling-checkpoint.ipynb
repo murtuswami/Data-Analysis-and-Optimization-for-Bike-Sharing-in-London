{
 "cells": [
  {
   "cell_type": "markdown",
   "id": "fbd84c00",
   "metadata": {},
   "source": [
    "We have the following data from the Transport for London API's\n",
    "\n",
    "* [Bike Station Locational Data](https://api.tfl.gov.uk/bikepoint)\n",
    "* [Trip Data ](https://cycling.data.tfl.gov.uk/)\n",
    "\n",
    "We load the bike station data into a a pandas dataframe and add a demand column that index's a particular station.\n",
    "We also convert the id from a string in the form \"stationid_x\"to just x for easier processing later and readability. \n"
   ]
  },
  {
   "cell_type": "code",
   "execution_count": 1,
   "id": "80a2a29f",
   "metadata": {},
   "outputs": [],
   "source": [
    "import pandas as pd\n",
    "import glob\n",
    "import os \n",
    "import numpy as np\n",
    "\n",
    "\n",
    "def getAndProcessData():\n",
    "    ##  Read data on bikestations  ## \n",
    "    url=\"https://api.tfl.gov.uk/bikepoint\"\n",
    "    bikeStations = pd.read_json(url)\n",
    "    bikeStations[\"demand\"] = 0\n",
    " "
   ]
  },
  {
   "cell_type": "code",
   "execution_count": 2,
   "id": "c4678022",
   "metadata": {},
   "outputs": [
    {
     "ename": "NameError",
     "evalue": "name 'bikeStations' is not defined",
     "output_type": "error",
     "traceback": [
      "\u001b[1;31m---------------------------------------------------------------------------\u001b[0m",
      "\u001b[1;31mNameError\u001b[0m                                 Traceback (most recent call last)",
      "Input \u001b[1;32mIn [2]\u001b[0m, in \u001b[0;36m<cell line: 3>\u001b[1;34m()\u001b[0m\n\u001b[0;32m      1\u001b[0m \u001b[38;5;28;01mdef\u001b[39;00m \u001b[38;5;21midGenerator\u001b[39m(x):\n\u001b[0;32m      2\u001b[0m         \u001b[38;5;28;01mreturn\u001b[39;00m x\u001b[38;5;241m.\u001b[39msplit(\u001b[38;5;124m\"\u001b[39m\u001b[38;5;124m_\u001b[39m\u001b[38;5;124m\"\u001b[39m)[\u001b[38;5;241m1\u001b[39m]\n\u001b[1;32m----> 3\u001b[0m bikeStations\u001b[38;5;241m.\u001b[39mid \u001b[38;5;241m=\u001b[39m np\u001b[38;5;241m.\u001b[39mvectorize(idGenerator)(\u001b[43mbikeStations\u001b[49m\u001b[38;5;241m.\u001b[39mid)\n",
      "\u001b[1;31mNameError\u001b[0m: name 'bikeStations' is not defined"
     ]
    }
   ],
   "source": [
    "    def idGenerator(x):\n",
    "            return x.split(\"_\")[1]\n",
    "    bikeStations.id = np.vectorize(idGenerator)(bikeStations.id)"
   ]
  },
  {
   "cell_type": "code",
   "execution_count": 10,
   "id": "58d680b6",
   "metadata": {},
   "outputs": [
    {
     "ename": "IndexError",
     "evalue": "pop from empty list",
     "output_type": "error",
     "traceback": [
      "\u001b[1;31m---------------------------------------------------------------------------\u001b[0m",
      "\u001b[1;31mIndexError\u001b[0m                                Traceback (most recent call last)",
      "Input \u001b[1;32mIn [10]\u001b[0m, in \u001b[0;36m<cell line: 2>\u001b[1;34m()\u001b[0m\n\u001b[0;32m      1\u001b[0m folders \u001b[38;5;241m=\u001b[39m  [x[\u001b[38;5;241m0\u001b[39m] \u001b[38;5;28;01mfor\u001b[39;00m x \u001b[38;5;129;01min\u001b[39;00m os\u001b[38;5;241m.\u001b[39mwalk(os\u001b[38;5;241m.\u001b[39mgetcwd() \u001b[38;5;241m+\u001b[39m \u001b[38;5;124m\"\u001b[39m\u001b[38;5;124m/_TfL Cycling Data\u001b[39m\u001b[38;5;124m\"\u001b[39m)]\n\u001b[1;32m----> 2\u001b[0m \u001b[43mfolders\u001b[49m\u001b[38;5;241;43m.\u001b[39;49m\u001b[43mpop\u001b[49m\u001b[43m(\u001b[49m\u001b[38;5;241;43m0\u001b[39;49m\u001b[43m)\u001b[49m\n\u001b[0;32m      3\u001b[0m li \u001b[38;5;241m=\u001b[39m []\n\u001b[0;32m      4\u001b[0m \u001b[38;5;28;01mfor\u001b[39;00m path \u001b[38;5;129;01min\u001b[39;00m folders:\n",
      "\u001b[1;31mIndexError\u001b[0m: pop from empty list"
     ]
    }
   ],
   "source": [
    "    folders =  [x[0] for x in os.walk(os.getcwd() + \"/_TfL Cycling Data\")]\n",
    "    folders.pop(0)\n",
    "    li = []\n",
    "    for path in folders:\n",
    "        all_files = glob.glob(path+  \"/*.csv\")\n",
    "        for filename in all_files:\n",
    "            df = pd.read_csv(filename, index_col=None, header=0)\n",
    "            li.append(df)\n",
    "        \n",
    "    trips = pd.concat(li, axis=0, ignore_index=True)"
   ]
  },
  {
   "cell_type": "code",
   "execution_count": null,
   "id": "a22b598e",
   "metadata": {},
   "outputs": [],
   "source": []
  }
 ],
 "metadata": {
  "kernelspec": {
   "display_name": "op",
   "language": "python",
   "name": "op"
  },
  "language_info": {
   "codemirror_mode": {
    "name": "ipython",
    "version": 3
   },
   "file_extension": ".py",
   "mimetype": "text/x-python",
   "name": "python",
   "nbconvert_exporter": "python",
   "pygments_lexer": "ipython3",
   "version": "3.10.5"
  }
 },
 "nbformat": 4,
 "nbformat_minor": 5
}
