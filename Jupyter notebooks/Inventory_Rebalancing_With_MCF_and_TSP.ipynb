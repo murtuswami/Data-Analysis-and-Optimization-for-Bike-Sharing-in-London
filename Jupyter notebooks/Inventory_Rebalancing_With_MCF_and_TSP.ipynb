{
 "cells": [
  {
   "cell_type": "markdown",
   "metadata": {},
   "source": [
    "# Inventory Reblancing Using Minimum Cost Flow and Travelling Salesman Problem. \n",
    "\n",
    "We have have introduced a method of estimating supply and demand at particular bikestations at the end of 24 hour and at the end of a week in [Estimating Demand and Supply ](./Estimating_Demand_and_Supply.ipynb). \n",
    "\n",
    "We [mapped this data](./Visualize_Supply_and_Demand_Using_Maps.ipynb) using folium and drew some useful insights on how the flow of demand and [supply changes in central london](./Inventory_Rebalancing_With_MCF_and_TSP.ipynb).\n",
    "\n",
    "\n",
    "The next stage of the project will look at reblancing the inventory at particular bike stations. At the beginning of a 24 hour day the net demand at all stations is 0. At the end of 24 hours bikes have moved between particular stations. The stations will either have a negative value indicating excess supply, or a positive value indicating excess demand. Companies running these stations usually used capacitated vehicles to exchange bikes between stations. We will refer to this as the reblancing process. Its aim is exchange bikes between stations at a minimum cost, with the end result being that all the stations net demand returns to 0. We can define the cost in this case as the straight line distance between stations. This is heuristic value but is a good starting point. \n",
    "\n",
    "## Minimum Cost Flow Problem for determining exchanges\n",
    "\n",
    "At the end of the day we have bike stations with demand and supply. Because of the way we formulated demand and supply, we know that the sum of all the demand in the network is 0. If $N$ is the list of all the bikestations in the network and $d_n$ is there demand value, then.\n",
    "\n",
    "\n",
    "$$\\sum{d_n} = 0, n \\in N$$ \n",
    "\n",
    "We can split the nodes in $N$ into three types, $d>0$, $d<0$ and $d=0$. Nodes where $d=0$ are irrelevant as they do not need rebalancing. They can be removed from the problem. \n",
    "\n",
    "### Bipartite Graph Formulation\n",
    "We want to match nodes in with $d<0$ or supply nodes to nodes where $d>0$ which are demand nodes. This can be formulated as a bipartite graph. We would have a set $S$ containing only supply nodes and a set $D$ containing only demand nodes. The lengths of the edges of nodes between sets $S$ and $D$ would be the straight line distance between the bike stations. We can create such a graph by processing the demand over a single day. \n",
    "\n"
   ]
  },
  {
   "cell_type": "markdown",
   "metadata": {},
   "source": [
    "First we get data on bikestations and trips. We then filter out all unique dates with a starting trip and pick an arbitrary one to operate on. We also  filter out trips to/from stations that we do not have locational data on. "
   ]
  },
  {
   "cell_type": "code",
   "execution_count": 2,
   "metadata": {},
   "outputs": [
    {
     "data": {
      "text/plain": [
       "datetime.date(2018, 3, 10)"
      ]
     },
     "execution_count": 2,
     "metadata": {},
     "output_type": "execute_result"
    }
   ],
   "source": [
    "import pandas as pd \n",
    "import os \n",
    "from ipynb.fs.full.Estimating_Demand_and_Supply import  processTripsOverTime\n",
    "import geopandas as gpd\n",
    "import pyproj \n",
    "import numpy as np\n",
    "import networkx as nx \n",
    "import matplotlib.pyplot as plt\n",
    "\n",
    "bikeStations = pd.read_pickle(os.path.join(os.getcwd(),r'pickles\\bikeStations.pkl'))\n",
    "trips = pd.read_pickle(os.path.join(os.getcwd(),r'pickles\\trips.pkl'))\n",
    "unq = trips[\"Start Date\"].map(pd.Timestamp.date).unique()\n",
    "trips = trips[trips['StartStation Id'].isin(bikeStations['id'].astype(np.int64).tolist())]\n",
    "trips = trips[trips['EndStation Id'].isin(bikeStations['id'].astype(np.int64).tolist())]\n",
    "date = unq[0]\n",
    "date"
   ]
  },
  {
   "cell_type": "markdown",
   "metadata": {},
   "source": [
    "Next we use the same function that we used for estimating the demand over a particular timeframe to count the demand over a particular day. First we apply a mask to our trip to filter out trips only occuring on our specified day. In this way the trips frame will only contain relevant dates so our processTripsOverTime function will be returning returning the exact demand and supply at the end of that paricular day.\n",
    "\n",
    "We end up with the exact number (Negative Value) /lack of bikes (Positive Value) at paricular stations at the end of the given date. \n",
    "\n",
    "\n"
   ]
  },
  {
   "cell_type": "code",
   "execution_count": 3,
   "metadata": {},
   "outputs": [
    {
     "data": {
      "text/html": [
       "<div>\n",
       "<style scoped>\n",
       "    .dataframe tbody tr th:only-of-type {\n",
       "        vertical-align: middle;\n",
       "    }\n",
       "\n",
       "    .dataframe tbody tr th {\n",
       "        vertical-align: top;\n",
       "    }\n",
       "\n",
       "    .dataframe thead th {\n",
       "        text-align: right;\n",
       "    }\n",
       "</style>\n",
       "<table border=\"1\" class=\"dataframe\">\n",
       "  <thead>\n",
       "    <tr style=\"text-align: right;\">\n",
       "      <th></th>\n",
       "      <th>$type</th>\n",
       "      <th>id</th>\n",
       "      <th>url</th>\n",
       "      <th>commonName</th>\n",
       "      <th>placeType</th>\n",
       "      <th>additionalProperties</th>\n",
       "      <th>children</th>\n",
       "      <th>childrenUrls</th>\n",
       "      <th>lat</th>\n",
       "      <th>lon</th>\n",
       "      <th>demand</th>\n",
       "    </tr>\n",
       "  </thead>\n",
       "  <tbody>\n",
       "    <tr>\n",
       "      <th>0</th>\n",
       "      <td>Tfl.Api.Presentation.Entities.Place, Tfl.Api.P...</td>\n",
       "      <td>84</td>\n",
       "      <td>/Place/BikePoints_84</td>\n",
       "      <td>Breams Buildings, Holborn</td>\n",
       "      <td>BikePoint</td>\n",
       "      <td>[{'$type': 'Tfl.Api.Presentation.Entities.Addi...</td>\n",
       "      <td>[]</td>\n",
       "      <td>[]</td>\n",
       "      <td>51.515937</td>\n",
       "      <td>-0.111778</td>\n",
       "      <td>-3.0</td>\n",
       "    </tr>\n",
       "    <tr>\n",
       "      <th>1</th>\n",
       "      <td>Tfl.Api.Presentation.Entities.Place, Tfl.Api.P...</td>\n",
       "      <td>85</td>\n",
       "      <td>/Place/BikePoints_85</td>\n",
       "      <td>Tanner Street, Bermondsey</td>\n",
       "      <td>BikePoint</td>\n",
       "      <td>[{'$type': 'Tfl.Api.Presentation.Entities.Addi...</td>\n",
       "      <td>[]</td>\n",
       "      <td>[]</td>\n",
       "      <td>51.500647</td>\n",
       "      <td>-0.078600</td>\n",
       "      <td>-12.0</td>\n",
       "    </tr>\n",
       "    <tr>\n",
       "      <th>2</th>\n",
       "      <td>Tfl.Api.Presentation.Entities.Place, Tfl.Api.P...</td>\n",
       "      <td>86</td>\n",
       "      <td>/Place/BikePoints_86</td>\n",
       "      <td>Sancroft Street, Vauxhall</td>\n",
       "      <td>BikePoint</td>\n",
       "      <td>[{'$type': 'Tfl.Api.Presentation.Entities.Addi...</td>\n",
       "      <td>[]</td>\n",
       "      <td>[]</td>\n",
       "      <td>51.489479</td>\n",
       "      <td>-0.115156</td>\n",
       "      <td>12.0</td>\n",
       "    </tr>\n",
       "    <tr>\n",
       "      <th>3</th>\n",
       "      <td>Tfl.Api.Presentation.Entities.Place, Tfl.Api.P...</td>\n",
       "      <td>87</td>\n",
       "      <td>/Place/BikePoints_87</td>\n",
       "      <td>Devonshire Square, Liverpool Street</td>\n",
       "      <td>BikePoint</td>\n",
       "      <td>[{'$type': 'Tfl.Api.Presentation.Entities.Addi...</td>\n",
       "      <td>[]</td>\n",
       "      <td>[]</td>\n",
       "      <td>51.516468</td>\n",
       "      <td>-0.079684</td>\n",
       "      <td>-3.0</td>\n",
       "    </tr>\n",
       "    <tr>\n",
       "      <th>4</th>\n",
       "      <td>Tfl.Api.Presentation.Entities.Place, Tfl.Api.P...</td>\n",
       "      <td>88</td>\n",
       "      <td>/Place/BikePoints_88</td>\n",
       "      <td>Bayley Street , Bloomsbury</td>\n",
       "      <td>BikePoint</td>\n",
       "      <td>[{'$type': 'Tfl.Api.Presentation.Entities.Addi...</td>\n",
       "      <td>[]</td>\n",
       "      <td>[]</td>\n",
       "      <td>51.518587</td>\n",
       "      <td>-0.132053</td>\n",
       "      <td>-6.0</td>\n",
       "    </tr>\n",
       "  </tbody>\n",
       "</table>\n",
       "</div>"
      ],
      "text/plain": [
       "                                               $type  id  \\\n",
       "0  Tfl.Api.Presentation.Entities.Place, Tfl.Api.P...  84   \n",
       "1  Tfl.Api.Presentation.Entities.Place, Tfl.Api.P...  85   \n",
       "2  Tfl.Api.Presentation.Entities.Place, Tfl.Api.P...  86   \n",
       "3  Tfl.Api.Presentation.Entities.Place, Tfl.Api.P...  87   \n",
       "4  Tfl.Api.Presentation.Entities.Place, Tfl.Api.P...  88   \n",
       "\n",
       "                    url                           commonName  placeType  \\\n",
       "0  /Place/BikePoints_84            Breams Buildings, Holborn  BikePoint   \n",
       "1  /Place/BikePoints_85            Tanner Street, Bermondsey  BikePoint   \n",
       "2  /Place/BikePoints_86            Sancroft Street, Vauxhall  BikePoint   \n",
       "3  /Place/BikePoints_87  Devonshire Square, Liverpool Street  BikePoint   \n",
       "4  /Place/BikePoints_88           Bayley Street , Bloomsbury  BikePoint   \n",
       "\n",
       "                                additionalProperties children childrenUrls  \\\n",
       "0  [{'$type': 'Tfl.Api.Presentation.Entities.Addi...       []           []   \n",
       "1  [{'$type': 'Tfl.Api.Presentation.Entities.Addi...       []           []   \n",
       "2  [{'$type': 'Tfl.Api.Presentation.Entities.Addi...       []           []   \n",
       "3  [{'$type': 'Tfl.Api.Presentation.Entities.Addi...       []           []   \n",
       "4  [{'$type': 'Tfl.Api.Presentation.Entities.Addi...       []           []   \n",
       "\n",
       "         lat       lon  demand  \n",
       "0  51.515937 -0.111778    -3.0  \n",
       "1  51.500647 -0.078600   -12.0  \n",
       "2  51.489479 -0.115156    12.0  \n",
       "3  51.516468 -0.079684    -3.0  \n",
       "4  51.518587 -0.132053    -6.0  "
      ]
     },
     "execution_count": 3,
     "metadata": {},
     "output_type": "execute_result"
    }
   ],
   "source": [
    "dateMask = (trips['Start Date'].dt.year == date.year) & (trips['Start Date'].dt.month == date.month) & (trips['End Date'].dt.day == date.day)\n",
    "trips = trips[dateMask]\n",
    "bikeStations = processTripsOverTime(trips,bikeStations,1,range(0,24),\"D\")\n",
    "bikeStations.head()\n"
   ]
  },
  {
   "cell_type": "markdown",
   "metadata": {},
   "source": [
    "We want to calculate straight line distances between the stations so we will conver the bikeStations to a GeoDataFrame. We will use the british national grid coordinate system for more accurate measurements. "
   ]
  },
  {
   "cell_type": "code",
   "execution_count": 4,
   "metadata": {},
   "outputs": [],
   "source": [
    "bikeStations = gpd.GeoDataFrame(bikeStations,crs=\"EPSG:4326\",geometry=gpd.points_from_xy(bikeStations.lon, bikeStations.lat) )\n",
    "bikeStations = bikeStations.to_crs(crs = pyproj.CRS(\"EPSG:27700\"))"
   ]
  },
  {
   "cell_type": "markdown",
   "metadata": {},
   "source": [
    "Next we split our bike stations into the two previously described sets \"S\" and \"D\". Notice that the sum of the supply is equal to the negation of the sum of the demand. This corresponds to previously defined constraint. \n",
    "\n",
    "$$\\sum{d_n} = 0, n \\in N$$ "
   ]
  },
  {
   "cell_type": "code",
   "execution_count": 5,
   "metadata": {},
   "outputs": [
    {
     "name": "stdout",
     "output_type": "stream",
     "text": [
      "-2081.0 2081.0\n"
     ]
    }
   ],
   "source": [
    "supply = bikeStations[ bikeStations['demand'] <0]\n",
    "demand = bikeStations [ bikeStations['demand'] > 0]\n",
    "print(supply['demand'].sum(),demand['demand'].sum())\n"
   ]
  },
  {
   "cell_type": "markdown",
   "metadata": {},
   "source": [
    "We want to create edges between all supply and demand nodes. We create an arrays to hold these values, we define the capacity of the edge as the the demand at the supply node. We convert these values to a DataFrame."
   ]
  },
  {
   "cell_type": "code",
   "execution_count": 6,
   "metadata": {},
   "outputs": [
    {
     "data": {
      "text/html": [
       "<div>\n",
       "<style scoped>\n",
       "    .dataframe tbody tr th:only-of-type {\n",
       "        vertical-align: middle;\n",
       "    }\n",
       "\n",
       "    .dataframe tbody tr th {\n",
       "        vertical-align: top;\n",
       "    }\n",
       "\n",
       "    .dataframe thead th {\n",
       "        text-align: right;\n",
       "    }\n",
       "</style>\n",
       "<table border=\"1\" class=\"dataframe\">\n",
       "  <thead>\n",
       "    <tr style=\"text-align: right;\">\n",
       "      <th></th>\n",
       "      <th>edgeStart</th>\n",
       "      <th>startPoint</th>\n",
       "      <th>edgeEnd</th>\n",
       "      <th>endPoint</th>\n",
       "      <th>capacity</th>\n",
       "    </tr>\n",
       "  </thead>\n",
       "  <tbody>\n",
       "    <tr>\n",
       "      <th>0</th>\n",
       "      <td>84</td>\n",
       "      <td>POINT (531114.334 181357.772)</td>\n",
       "      <td>86</td>\n",
       "      <td>POINT (530955.759 178409.583)</td>\n",
       "      <td>3.0</td>\n",
       "    </tr>\n",
       "    <tr>\n",
       "      <th>1</th>\n",
       "      <td>84</td>\n",
       "      <td>POINT (531114.334 181357.772)</td>\n",
       "      <td>89</td>\n",
       "      <td>POINT (530271.002 182483.654)</td>\n",
       "      <td>3.0</td>\n",
       "    </tr>\n",
       "    <tr>\n",
       "      <th>2</th>\n",
       "      <td>84</td>\n",
       "      <td>POINT (531114.334 181357.772)</td>\n",
       "      <td>90</td>\n",
       "      <td>POINT (529165.237 183208.630)</td>\n",
       "      <td>3.0</td>\n",
       "    </tr>\n",
       "    <tr>\n",
       "      <th>3</th>\n",
       "      <td>84</td>\n",
       "      <td>POINT (531114.334 181357.772)</td>\n",
       "      <td>91</td>\n",
       "      <td>POINT (531231.229 178884.816)</td>\n",
       "      <td>3.0</td>\n",
       "    </tr>\n",
       "    <tr>\n",
       "      <th>4</th>\n",
       "      <td>84</td>\n",
       "      <td>POINT (531114.334 181357.772)</td>\n",
       "      <td>93</td>\n",
       "      <td>POINT (531252.235 183416.694)</td>\n",
       "      <td>3.0</td>\n",
       "    </tr>\n",
       "  </tbody>\n",
       "</table>\n",
       "</div>"
      ],
      "text/plain": [
       "  edgeStart                     startPoint edgeEnd  \\\n",
       "0        84  POINT (531114.334 181357.772)      86   \n",
       "1        84  POINT (531114.334 181357.772)      89   \n",
       "2        84  POINT (531114.334 181357.772)      90   \n",
       "3        84  POINT (531114.334 181357.772)      91   \n",
       "4        84  POINT (531114.334 181357.772)      93   \n",
       "\n",
       "                        endPoint  capacity  \n",
       "0  POINT (530955.759 178409.583)       3.0  \n",
       "1  POINT (530271.002 182483.654)       3.0  \n",
       "2  POINT (529165.237 183208.630)       3.0  \n",
       "3  POINT (531231.229 178884.816)       3.0  \n",
       "4  POINT (531252.235 183416.694)       3.0  "
      ]
     },
     "execution_count": 6,
     "metadata": {},
     "output_type": "execute_result"
    }
   ],
   "source": [
    "startEdge = []\n",
    "startGeo = [] \n",
    "endEdge = [] \n",
    "endGeo = []\n",
    "capacity = [] \n",
    "\n",
    "for index , row in supply.iterrows():\n",
    "    for i , r in demand.iterrows():\n",
    "        if row['id'] != r['id']:\n",
    "            startEdge.append(row['id'])\n",
    "            startGeo.append(row.geometry)\n",
    "            endEdge.append(r['id'])\n",
    "            endGeo.append(r.geometry)\n",
    "            capacity.append(abs(row['demand']))\n",
    "d = {'edgeStart' : startEdge,'startPoint': gpd.GeoSeries(startGeo),'edgeEnd' :endEdge,'endPoint':gpd.GeoSeries(endGeo),'capacity':capacity}\n",
    "edges = pd.DataFrame(data=d)\n",
    "edges.head()"
   ]
  },
  {
   "cell_type": "markdown",
   "metadata": {},
   "source": [
    "Next we want to associate the weight of the edge with the straight line distance between the two points. We use GeoPandas data manipulation to acheive this. We conver the start point and edge points to GeoSeries objects and apply the distance function elementwise to obtain the straight line distances. "
   ]
  },
  {
   "cell_type": "code",
   "execution_count": 7,
   "metadata": {},
   "outputs": [
    {
     "data": {
      "text/html": [
       "<div>\n",
       "<style scoped>\n",
       "    .dataframe tbody tr th:only-of-type {\n",
       "        vertical-align: middle;\n",
       "    }\n",
       "\n",
       "    .dataframe tbody tr th {\n",
       "        vertical-align: top;\n",
       "    }\n",
       "\n",
       "    .dataframe thead th {\n",
       "        text-align: right;\n",
       "    }\n",
       "</style>\n",
       "<table border=\"1\" class=\"dataframe\">\n",
       "  <thead>\n",
       "    <tr style=\"text-align: right;\">\n",
       "      <th></th>\n",
       "      <th>edgeStart</th>\n",
       "      <th>edgeEnd</th>\n",
       "      <th>capacity</th>\n",
       "      <th>weight</th>\n",
       "    </tr>\n",
       "  </thead>\n",
       "  <tbody>\n",
       "    <tr>\n",
       "      <th>0</th>\n",
       "      <td>84</td>\n",
       "      <td>86</td>\n",
       "      <td>3.0</td>\n",
       "      <td>2952.450630</td>\n",
       "    </tr>\n",
       "    <tr>\n",
       "      <th>1</th>\n",
       "      <td>84</td>\n",
       "      <td>89</td>\n",
       "      <td>3.0</td>\n",
       "      <td>1406.704811</td>\n",
       "    </tr>\n",
       "    <tr>\n",
       "      <th>2</th>\n",
       "      <td>84</td>\n",
       "      <td>90</td>\n",
       "      <td>3.0</td>\n",
       "      <td>2687.871323</td>\n",
       "    </tr>\n",
       "    <tr>\n",
       "      <th>3</th>\n",
       "      <td>84</td>\n",
       "      <td>91</td>\n",
       "      <td>3.0</td>\n",
       "      <td>2475.717367</td>\n",
       "    </tr>\n",
       "    <tr>\n",
       "      <th>4</th>\n",
       "      <td>84</td>\n",
       "      <td>93</td>\n",
       "      <td>3.0</td>\n",
       "      <td>2063.534929</td>\n",
       "    </tr>\n",
       "    <tr>\n",
       "      <th>...</th>\n",
       "      <td>...</td>\n",
       "      <td>...</td>\n",
       "      <td>...</td>\n",
       "      <td>...</td>\n",
       "    </tr>\n",
       "    <tr>\n",
       "      <th>127375</th>\n",
       "      <td>693</td>\n",
       "      <td>689</td>\n",
       "      <td>5.0</td>\n",
       "      <td>2491.472894</td>\n",
       "    </tr>\n",
       "    <tr>\n",
       "      <th>127376</th>\n",
       "      <td>693</td>\n",
       "      <td>690</td>\n",
       "      <td>5.0</td>\n",
       "      <td>4456.059404</td>\n",
       "    </tr>\n",
       "    <tr>\n",
       "      <th>127377</th>\n",
       "      <td>693</td>\n",
       "      <td>692</td>\n",
       "      <td>5.0</td>\n",
       "      <td>15554.747095</td>\n",
       "    </tr>\n",
       "    <tr>\n",
       "      <th>127378</th>\n",
       "      <td>693</td>\n",
       "      <td>694</td>\n",
       "      <td>5.0</td>\n",
       "      <td>456.985734</td>\n",
       "    </tr>\n",
       "    <tr>\n",
       "      <th>127379</th>\n",
       "      <td>693</td>\n",
       "      <td>695</td>\n",
       "      <td>5.0</td>\n",
       "      <td>11172.522316</td>\n",
       "    </tr>\n",
       "  </tbody>\n",
       "</table>\n",
       "<p>127380 rows × 4 columns</p>\n",
       "</div>"
      ],
      "text/plain": [
       "       edgeStart edgeEnd  capacity        weight\n",
       "0             84      86       3.0   2952.450630\n",
       "1             84      89       3.0   1406.704811\n",
       "2             84      90       3.0   2687.871323\n",
       "3             84      91       3.0   2475.717367\n",
       "4             84      93       3.0   2063.534929\n",
       "...          ...     ...       ...           ...\n",
       "127375       693     689       5.0   2491.472894\n",
       "127376       693     690       5.0   4456.059404\n",
       "127377       693     692       5.0  15554.747095\n",
       "127378       693     694       5.0    456.985734\n",
       "127379       693     695       5.0  11172.522316\n",
       "\n",
       "[127380 rows x 4 columns]"
      ]
     },
     "execution_count": 7,
     "metadata": {},
     "output_type": "execute_result"
    }
   ],
   "source": [
    "x =  gpd.GeoSeries(edges['startPoint'],crs=pyproj.CRS(\"EPSG:27700\"))\n",
    "y = gpd.GeoSeries(edges['endPoint'],crs= pyproj.CRS(\"EPSG:27700\"))\n",
    "distances = x.distance(y,align=False)\n",
    "edges['weight'] = distances\n",
    "edges =  edges.drop(\"startPoint\", axis=1)\n",
    "edges = edges.drop(\"endPoint\", axis=1)\n",
    "edges"
   ]
  },
  {
   "cell_type": "markdown",
   "metadata": {},
   "source": [
    "###  Minimum Cost Flow Specification\n",
    "\n",
    "We have created a bipartite graph consisting of demand and supply nodes. \n",
    "\n",
    "We want to send bikes from the supply nodes to the demand nodes in such a way that our original constraint of \n",
    "\n",
    "$$\\sum{d_n} = 0, n \\in N$$ \n",
    "\n",
    "\n",
    "is satisfied at an estimated minimum cost. One way to do this is to reformulate the problem as a minimum cost flow problem. \n",
    "The minimum cost flow problem takes a directed graph with a sink and source vertex and sends flow from the source to sink at at a minimum cost so that the demand and supply are satisfied. The problem can be stated as follows \n",
    "\n",
    "$$\n",
    "\n",
    "\\min{a(u,v) \\times f(u,v)} \n",
    "\n",
    "$$\n",
    "\n",
    "With the following constraints\n",
    "\n",
    "$$ f(u,v) \\le c(u,v) $$\n",
    "$$ \\sum_{w \\in V} f(u,w) = 0 \\textrm{  for all } u \\neq{s,t} $$\n",
    "$$ \\sum_{w \\in V} f(s,w) = d  \\textrm{  and  } \\sum_{w \\in V} f(w,t) =d $$\n",
    "\n",
    "Where \n",
    "* $a$ is the cost of sending flow along a particular edge\n",
    "* $f$ is the flow along a particular edge\n",
    "* $s,t$ are the source and sink nodes respectively \n",
    "* $d$ is the supply/demand at the source/sink \n",
    "* $V$ is the set of all vertices \n",
    "\n",
    "### Transforming bipartite network into minimum cost flow problem \n",
    "Lets start by creating a small bipartite network which simulates our supply/demand problem on a smaller scaleand show how we could reformulate it into a minimum cost flow problem. \n",
    "\n",
    "\n",
    "\n",
    "\n",
    "\n",
    "\n",
    "\n",
    "\n",
    "\n"
   ]
  },
  {
   "cell_type": "code",
   "execution_count": 42,
   "metadata": {},
   "outputs": [
    {
     "data": {
      "text/plain": [
       "{('3', '6'): Text(0.25, 0.5625, '5'),\n",
       " ('3', '5'): Text(0.25, 0.0, '8'),\n",
       " ('2', '6'): Text(0.25, 0.375, '6'),\n",
       " ('2', '5'): Text(0.25, -0.1875, '7'),\n",
       " ('1', '6'): Text(0.25, 0.0, '8'),\n",
       " ('1', '5'): Text(0.25, -0.5625, '5'),\n",
       " ('4', '6'): Text(0.25, 0.1875, '7'),\n",
       " ('4', '5'): Text(0.25, -0.375, '6')}"
      ]
     },
     "execution_count": 42,
     "metadata": {},
     "output_type": "execute_result"
    },
    {
     "data": {
      "image/png": "[encoded data removed]",
      "text/plain": [
       "<Figure size 432x288 with 1 Axes>"
      ]
     },
     "metadata": {},
     "output_type": "display_data"
    }
   ],
   "source": [
    "supplyId = ['1','2','3','4']\n",
    "demandId = ['5','6']\n",
    "imbalance = [5.0,0.0,0.0,0.0,0.0,-5]\n",
    "from pyvis.network import Network\n",
    "weights = [1.0,2.0,1.0,2.0,2.0,2.0,2.0,2.0]\n",
    "capacity = [5.0,5.0,5.0,5.0,5.0,5.0,5.0,5.0]\n",
    "edges = []\n",
    "for i,n in enumerate(supplyId):\n",
    "    for j in demandId:\n",
    "        edges.append((n,j))\n",
    "B = nx.Graph()\n",
    "B.add_nodes_from(supplyId,bipartite= 0, label = 'supply')\n",
    "B.add_nodes_from(demandId,bipartite = 1,label ='demand')\n",
    "B.add_edges_from(edges)\n",
    "pos = nx.bipartite_layout(B, supplyId)\n",
    "\n",
    "d = {'3':'+5','2':'+4','4':'+6','1':'+3','6':'-10','5':'-8'}\n",
    "d_edges = {('3','6'):5,('3','5'):8,('2','6'):6,('2','5'):7,('1','6'):'8',('1','5'):5,('4','6'):7,('4','5'):6}\n",
    "nx.draw(B,pos,node_color='#A0CBE2',edge_color='#00bb5e',width=1,edge_cmap=plt.cm.Blues)\n",
    "nx.draw_networkx_labels(B,pos,d)\n",
    "nx.draw_networkx_edge_labels(B,pos,d_edges)\n"
   ]
  },
  {
   "cell_type": "markdown",
   "metadata": {},
   "source": [
    "On the left we have supply nodes and on the right we have demand nodes. Note we have arbiratily chosen to have more supply nodes than demand nodes.The model will work for any number of supply nodes or demand nodes since the net supply/demand in the network will be 0. We also add some arbitary weights to the edge. In a real graph this would be the straight line distance. \n",
    "\n",
    "We need to convert this to a minimum cost flow problem. In order to do this we will add a source and a sink. The source and sink each with a total supply and demand of all the bikes in the network. We will then add edges from the source nodes to the supply nodes with a capacity of the supply at that node and a cost of 0. We add edges from the demand node to the sink node where the capacity is the demand at the demand nodes and the cost is 0. Finally we transform the edges between supply and demand nodes so that they have have a capacity of the supply node. \n",
    "\n",
    "Lets take a look at what this transformation would look like"
   ]
  },
  {
   "cell_type": "code",
   "execution_count": 62,
   "metadata": {},
   "outputs": [
    {
     "data": {
      "text/plain": [
       "{('-1', '3'): Text(-0.5384615384615385, -0.15384615384615385, '(6,0)'),\n",
       " ('-1', '2'): Text(-0.5384615384615385, 0.15384615384615385, '(4,0)'),\n",
       " ('-1', '1'): Text(-0.5384615384615385, 0.46153846153846156, '(5,0)'),\n",
       " ('-1', '4'): Text(-0.5384615384615385, -0.46153846153846156, '(3,0)'),\n",
       " ('5', '-2'): Text(0.6923076923076923, 0.15384615384615385, '(10,0)'),\n",
       " ('6', '-2'): Text(0.6923076923076923, -0.15384615384615385, '(8,0)')}"
      ]
     },
     "execution_count": 62,
     "metadata": {},
     "output_type": "execute_result"
    },
    {
     "data": {
      "image/png": "[encoded data removed]",
      "text/plain": [
       "<Figure size 432x288 with 1 Axes>"
      ]
     },
     "metadata": {},
     "output_type": "display_data"
    }
   ],
   "source": [
    "supplyId = ['1','2','3','4']\n",
    "demandId = ['5','6']\n",
    "sinkId = ['-2']\n",
    "sourceId = ['-1']\n",
    "\n",
    "edges = []\n",
    "for i,n in enumerate(supplyId):\n",
    "    edges.append(('-1',n))\n",
    "    for j in demandId:\n",
    "        edges.append((n,j))\n",
    "        \n",
    "for i,n in enumerate(demandId):\n",
    "    edges.append((n,'-2'))\n",
    "B = nx.Graph()\n",
    "B.add_nodes_from(supplyId,level= 1, label = 'supply')\n",
    "B.add_nodes_from(demandId,level = 2,label ='demand')\n",
    "B.add_nodes_from(sourceId,level = 0)\n",
    "B.add_nodes_from(sinkId,level = 3 )\n",
    "B.add_edges_from(edges)\n",
    "pos = nx.multipartite_layout(B, subset_key=\"level\")\n",
    "\n",
    "d = {'-1':'+18','-2':'-18'}\n",
    "d_edges = {('3','6'):'(6,6)',('3','5'):'(6,7)',('2','6'):'(4,7)',('2','5'):'(4,6)',('1','6'):'(5,8)',('1','5'):'(5,5)',('4','6'):'(3,5)',('4','5'):'(3,8)'}\n",
    "source_sink_to_edges = {('-1','3'):'(6,0)',('-1','2'):'(4,0)',('-1','1'):'(5,0)',('-1','4'):'(3,0)',('5','-2'):'(10,0)',('6','-2'):'(8,0)'}\n",
    "\n",
    "nx.draw(B,pos,node_color='#A0CBE2',edge_color='#00bb5e',width=1,edge_cmap=plt.cm.Blues)\n",
    "nx.draw_networkx_labels(B,pos,d)\n",
    "nx.draw_networkx_edge_labels(B,pos,d_edges,label_pos=0.7)\n",
    "nx.draw_networkx_edge_labels(B,pos,source_sink_to_edges)\n"
   ]
  },
  {
   "cell_type": "markdown",
   "metadata": {},
   "source": [
    "Each of the edges has an attribute in the form of (capacity,cost)\n",
    "\n",
    "We have creates a transformation procedure that converts our bipartite demand/supply nodes to a minimum cost flow problem. \n",
    "The generalized procedure is as follows \n",
    "\n",
    "* Create Source and Sink. Add imbalance to Source as sum of demand at all supply nodes. Add imbalance to Sink as sum of demand at all demand nodes. \n",
    "* Create Edges from Source to supply nodes with capacity of supply at node and cost per flow 0 \n",
    "* Create edges from Demand nodes to sink nodes with capacity of demand at node and cost per flow 0 \n",
    "* Create edges from each supply node to each demand node with capacity of supply at node and cost of straight line distance between nodes. \n",
    "\n",
    "\n",
    " We can now solve this as a minimum cost flow problem. In this case the objective function is would be a heuristic for finding a cheapest assignment of edges  since minimizing cost $\\times$ flow does not accurate reflect the cost of repositioning bikes. The cost does not increase exponentially the more bikes we send along it. The solver would still give us a feasible reassignment at estimated lowest cost. \n",
    "\n",
    " Lets apply this transformation to the bipartite network we formulated above. "
   ]
  }
 ],
 "metadata": {
  "kernelspec": {
   "display_name": "op",
   "language": "python",
   "name": "op"
  },
  "language_info": {
   "codemirror_mode": {
    "name": "ipython",
    "version": 3
   },
   "file_extension": ".py",
   "mimetype": "text/x-python",
   "name": "python",
   "nbconvert_exporter": "python",
   "pygments_lexer": "ipython3",
   "version": "3.10.5"
  },
  "orig_nbformat": 4
 },
 "nbformat": 4,
 "nbformat_minor": 2
}
