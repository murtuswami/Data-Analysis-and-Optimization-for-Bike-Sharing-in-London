{
 "cells": [
  {
   "cell_type": "markdown",
   "metadata": {},
   "source": [
    "# Solving Bike Repositioning problem as a Travelling Salesman Problem with Google OR-Tools\n",
    "\n",
    "From the ouput of the minimum cost flow solver we have a list of edges between supply and demand nodes that need to be traversed. \n",
    "\n",
    "As a starting point for solving the bike repositioning problem we want to figure out the route of minimum cost that a single vehicle could take that traverses all these edges. This type of problem is referred to as the Travelling Salesmen Problem. In particular the travelling salesman problem states the following [\"Given a list of cities and the distances between each pair of cities what is the shortest possible route that visits each city exactly once and returns to the origin city.\"] (https://en.wikipedia.org/wiki/Travelling_salesman_problem). \n",
    "\n",
    "\n",
    "Notice that this does not exactly match the output of our MCF solver. We do have a list of nodes and each one of these need to be visited. However we also have an additional constraint that the edges that have flow on them must be traversed. We could formulate the problem entirely as a seperate optimization problem but we would end up having to introudce multiple additional variables and the problem would probably become intractable. \n",
    "\n",
    "Instead we will introuduce a novel method for transforming the output of the Minimum Cost Flow problem into a format that can be solved by a generic TSP solver. \n",
    "\n",
    "## Network Transformation  \n",
    "\n",
    "We want to convert our network our network to format such that visting each of the nodes in the network irrespective of order corresponds to satisfying all demand and supply in the network. We have from the MCF solver output a list of edges between supply and demand nodes that must be traversed in order to satisfy demand. \n",
    "\n",
    "\n",
    "In order to do this we will apply the following transformation \n",
    "\n",
    "* Convert each edge outgoing a supply node to a demand node into a new combined node \n",
    "* Between this new node and all other nodes in the network make the distance the original distance of the supply-demand edge, plus the cost of going from the demand node in the new node and the supply node and in the other node. \n",
    "\n",
    "The diagram below illustrates this. \n",
    "\n",
    "![Illustration](./Transformation.png)\n",
    "\n",
    "On the new network moving from node $(s_1,d_1)$ to $(s_2,d_2)$ corresponds to going from node $s_1$ to $d_1$ to $s_2$ in the original network. So leaving a node on the new network corresponds to satisfying the demand on that node. Therefore if we leave every node in the network once we will have satisfied the demand. So if we solve the problem as a TSP and then instead of returning to the original node simply add the distance of $S_n$ to $D_n$ for the last node we will have solved the problem at a minimum cost for a single vehicle.\n",
    "\n"
   ]
  },
  {
   "cell_type": "markdown",
   "metadata": {},
   "source": [
    "## Solving TSP using Google OR tools \n",
    "\n",
    "OR-Tools are an open source optimization tool developed by google. We will use their vehicle routing solver to solve the problem on our new network \n",
    "\n",
    "The basic format of the solver was taken from [a open source example](https://github.com/google/or-tools/blob/stable/ortools/constraint_solver/samples/tsp.py) but we have made some changes to the distance function and solution function. \n",
    "\n",
    "Before we define the solver lets collect the data from the MCF output and format it appropriately. We first read the stationEdges DataFrame and the model output key edges dictionary (edges with flow)."
   ]
  },
  {
   "cell_type": "code",
   "execution_count": 2,
   "metadata": {},
   "outputs": [],
   "source": [
    "import pickle \n",
    "import pandas as pd\n",
    "import os \n",
    "\n",
    "\n",
    "with open(os.path.join(os.getcwd(),r'pickles\\keyEdges.pkl'), 'rb') as fp:\n",
    "    keyEdges = pickle.load(fp)\n",
    "stationEdges = pd.read_pickle(os.path.join(os.getcwd(),r'pickles\\stationEdges.pkl'))\n"
   ]
  },
  {
   "cell_type": "markdown",
   "metadata": {},
   "source": [
    "Key Edges are the edges that have non zero flow and are not source/sink connected edges. \n",
    "These then becoming the nodes in our new network.  \n",
    "\n",
    "Key Edges is a  dictionary in the form $(s_n,d_n)$ : $w$ where $s_n$ is the supply node and $d_n$ is the demand node.$w$ is the length between $s_n$ and $d_n$.\n"
   ]
  },
  {
   "cell_type": "markdown",
   "metadata": {},
   "source": [
    "Next we capture the distances between all supply and demand nodes in the **original network** along with their distances as a dictionary in the same form as the node network. Note that although the format of these are the same, the meaning is completly different in this context. The edges will be used to differently in the distance calculation. "
   ]
  },
  {
   "cell_type": "code",
   "execution_count": 3,
   "metadata": {},
   "outputs": [],
   "source": [
    "edgesDict = {}\n",
    "for x in stationEdges.iterrows():\n",
    "    edgesDict.update({ (str(x[0][0]) ,str(x[0][1])):int(round(x[1]['weight']))})\n"
   ]
  },
  {
   "cell_type": "markdown",
   "metadata": {},
   "source": [
    "Finally lets define the google OR Model. "
   ]
  },
  {
   "cell_type": "code",
   "execution_count": 6,
   "metadata": {},
   "outputs": [],
   "source": [
    "from ortools.constraint_solver import routing_enums_pb2\n",
    "from ortools.constraint_solver import pywrapcp\n",
    "import jdc \n",
    "class TSPORSolver:\n",
    "\n",
    "    def __init__(self,nodeDict,edges):\n",
    "        self.nodeDict =  nodeDict\n",
    "        self.edges = edges\n",
    "\n",
    "    def create_data_model(self):\n",
    "        data = {}\n",
    "        data['locations'] = [x for x in self.nodeDict.keys()]\n",
    "        self.locations = data['locations']\n",
    "        data['num_vehicles'] = 1\n",
    "        data['depot'] = 0\n",
    "        return data\n",
    "    def create_distance_callback(self,data, manager):\n",
    "        distances_ = {}\n",
    "        index_manager_ = manager\n",
    "        for from_counter, from_node in enumerate(data['locations']):\n",
    "            distances_[from_counter] = {}\n",
    "            for to_counter, to_node in enumerate(data['locations']):\n",
    "                if from_counter == to_counter:\n",
    "                    distances_[from_counter][to_counter] = 0\n",
    "                else:\n",
    "                    distances_[from_counter][to_counter] = self.nodeDict.get(from_node) + self.edges.get((to_node[0],from_node[1]))           \n",
    "        def distance_callback(from_index, to_index):\n",
    "            from_node = index_manager_.IndexToNode(from_index)\n",
    "            to_node = index_manager_.IndexToNode(to_index)\n",
    "            return distances_[from_node][to_node]\n",
    "        return distance_callback\n",
    "\n",
    "    def print_solution(self,manager, routing, assignment):\n",
    "            \"\"\"Prints assignment on console.\"\"\"\n",
    "            print('Objective: {}'.format(assignment.ObjectiveValue()))\n",
    "            index = routing.Start(0)\n",
    "            plan_output = 'Route for vehicle 0:\\n'\n",
    "            route_distance = 0\n",
    "            route_array = [] \n",
    "            while not routing.IsEnd(index):\n",
    "                s = self.locations[index][0] \n",
    "                d = self.locations[index][1] \n",
    "                route_array.append(s)\n",
    "                route_array.append(d)\n",
    "                plan_output += ' {} ->'.format(s)\n",
    "                plan_output += '{} ->'.format(d)\n",
    "                previous_index = index\n",
    "                index = assignment.Value(routing.NextVar(index))\n",
    "                previous_arc_dist = routing.GetArcCostForVehicle(previous_index, index, 0)\n",
    "                route_distance += routing.GetArcCostForVehicle(previous_index, index, 0)\n",
    "            route_distance -= previous_arc_dist + self.edges.get((self.locations[previous_index][0],self.locations[previous_index][1]))\n",
    "            plan_output += 'Distance of the route: {}m\\n'.format(route_distance)\n",
    "            print(plan_output)\n",
    "          \n",
    "    def solve(self):\n",
    "        data = self.create_data_model()\n",
    "        manager = pywrapcp.RoutingIndexManager(len(data['locations']),\n",
    "                                            data['num_vehicles'], data['depot'])\n",
    "        routing = pywrapcp.RoutingModel(manager)\n",
    "\n",
    "        distance_callback = self.create_distance_callback(data, manager)\n",
    "        transit_callback_index = routing.RegisterTransitCallback(distance_callback)\n",
    "\n",
    "        routing.SetArcCostEvaluatorOfAllVehicles(transit_callback_index)\n",
    "\n",
    "        search_parameters = pywrapcp.DefaultRoutingSearchParameters()\n",
    "        search_parameters.first_solution_strategy = (\n",
    "            routing_enums_pb2.FirstSolutionStrategy.PATH_CHEAPEST_ARC)\n",
    "\n",
    "        assignment = routing.SolveWithParameters(search_parameters)\n",
    "\n",
    "        if assignment:\n",
    "           return self.print_solution(manager, routing, assignment)"
   ]
  },
  {
   "cell_type": "markdown",
   "metadata": {},
   "source": [
    "We create a distance callback function. This distance function differs significantly from the examples provided by google. We will consider the design of our new network when computing the distance. \n",
    "\n",
    "If the edge connects to itself then we set the distance to 0. \n",
    "\n",
    "Otherwise we set the value to be the distance as $distance(s_1,d_1) + distance(d_1,s_2)$ where $(s_1,d_1)$ is the node we are leaving from and $(s_2,d_n) $ is the node it is going too . We use the edges section that we previously input to get the distance $d_1 \\rightarrow s_2 $ we use the nodeDict values to get $s_1 \\rightarrow d_1.$\n",
    "\n",
    "Next we define the print function. Instead of printing the route back to the original node, we set the route to end at the second last node. Remove the distance from the second last to the final node and add the distance from the second last node to its demand node. "
   ]
  },
  {
   "cell_type": "markdown",
   "metadata": {},
   "source": [
    "Next lets solve the model. "
   ]
  },
  {
   "cell_type": "code",
   "execution_count": 7,
   "metadata": {},
   "outputs": [
    {
     "name": "stdout",
     "output_type": "stream",
     "text": [
      "Objective: 1222964\n",
      "Route for vehicle 0:\n",
      " 84 ->17 -> 594 ->123 -> 72 ->123 -> 48 ->203 -> 48 ->136 -> 48 ->557 -> 71 ->365 -> 112 ->123 -> 338 ->170 -> 338 ->1 -> 809 ->1 -> 372 ->22 -> 335 ->68 -> 388 ->358 -> 64 ->83 -> 64 ->180 -> 64 ->169 -> 349 ->169 -> 129 ->169 -> 129 ->330 -> 192 ->106 -> 260 ->121 -> 383 ->43 -> 6 ->581 -> 6 ->208 -> 109 ->81 -> 109 ->315 -> 28 ->315 -> 28 ->76 -> 357 ->540 -> 69 ->540 -> 381 ->540 -> 13 ->540 -> 20 ->540 -> 69 ->795 -> 12 ->214 -> 797 ->131 -> 34 ->131 -> 25 ->131 -> 572 ->604 -> 572 ->131 -> 572 ->90 -> 456 ->90 -> 456 ->535 -> 456 ->590 -> 343 ->271 -> 343 ->312 -> 110 ->8 -> 456 ->247 -> 456 ->7 -> 545 ->457 -> 545 ->7 -> 545 ->713 -> 572 ->362 -> 462 ->362 -> 806 ->674 -> 804 ->674 -> 431 ->674 -> 431 ->439 -> 431 ->93 -> 234 ->695 -> 234 ->93 -> 798 ->339 -> 70 ->339 -> 4 ->227 -> 793 ->227 -> 162 ->796 -> 12 ->287 -> 12 ->796 -> 88 ->98 -> 65 ->98 -> 109 ->257 -> 6 ->43 -> 383 ->121 -> 260 ->210 -> 116 ->141 -> 116 ->370 -> 396 ->370 -> 402 ->286 -> 363 ->286 -> 402 ->60 -> 114 ->60 -> 45 ->60 -> 114 ->208 -> 56 ->201 -> 56 ->182 -> 260 ->176 -> 188 ->186 -> 514 ->165 -> 188 ->176 -> 301 ->176 -> 260 ->592 -> 265 ->592 -> 99 ->330 -> 318 ->29 -> 153 ->261 -> 382 ->524 -> 389 ->584 -> 111 ->524 -> 111 ->584 -> 289 ->151 -> 224 ->337 -> 307 ->225 -> 213 ->191 -> 213 ->222 -> 646 ->207 -> 799 ->258 -> 292 ->428 -> 143 ->428 -> 211 ->266 -> 209 ->392 -> 432 ->392 -> 209 ->404 -> 368 ->103 -> 97 ->375 -> 133 ->375 -> 157 ->168 -> 113 ->38 -> 378 ->384 -> 231 ->37 -> 187 ->216 -> 187 ->158 -> 589 ->219 -> 589 ->158 -> 171 ->158 -> 187 ->37 -> 356 ->36 -> 781 ->482 -> 781 ->392 -> 781 ->36 -> 395 ->172 -> 218 ->430 -> 250 ->220 -> 250 ->700 -> 662 ->700 -> 529 ->780 -> 529 ->746 -> 755 ->745 -> 755 ->649 -> 755 ->746 -> 529 ->610 -> 250 ->701 -> 747 ->701 -> 680 ->701 -> 735 ->744 -> 735 ->642 -> 735 ->673 -> 735 ->675 -> 735 ->653 -> 764 ->734 -> 764 ->637 -> 776 ->768 -> 764 ->683 -> 764 ->609 -> 764 ->623 -> 764 ->638 -> 764 ->653 -> 735 ->701 -> 747 ->679 -> 288 ->620 -> 419 ->821 -> 177 ->178 -> 320 ->245 -> 281 ->426 -> 558 ->190 -> 558 ->183 -> 146 ->183 -> 146 ->602 -> 817 ->602 -> 808 ->612 -> 355 ->670 -> 625 ->750 -> 625 ->690 -> 726 ->690 -> 625 ->632 -> 756 ->632 -> 664 ->632 -> 756 ->710 -> 800 ->710 -> 800 ->620 -> 288 ->679 -> 167 ->428 -> 211 ->150 -> 395 ->404 -> 368 ->350 -> 368 ->258 -> 181 ->258 -> 799 ->207 -> 646 ->303 -> 213 ->333 -> 248 ->225 -> 307 ->337 -> 224 ->151 -> 289 ->584 -> 226 ->541 -> 233 ->541 -> 228 ->541 -> 341 ->160 -> 354 ->229 -> 354 ->160 -> 64 ->758 -> 318 ->397 -> 318 ->105 -> 318 ->53 -> 226 ->528 -> 226 ->380 -> 49 ->380 -> 762 ->733 -> 762 ->222 -> 359 ->243 -> 360 ->243 -> 320 ->178 -> 177 ->826 -> 177 ->258 -> 292 ->266 -> 395 ->266 -> 373 ->266 -> 167 ->423 -> 288 ->658 -> 288 ->821 -> 161 ->178 -> 320 ->243 -> 359 ->148 -> 118 ->299 -> 108 ->353 -> 108 ->148 -> 108 ->294 -> 281 ->267 -> 281 ->221 -> 583 ->387 -> 583 ->310 -> 139 ->86 -> 100 ->602 -> 813 ->74 -> 813 ->600 -> 437 ->654 -> 352 ->654 -> 440 ->827 -> 440 ->149 -> 412 ->149 -> 580 ->435 -> 272 ->152 -> 324 ->152 -> 297 ->152 -> 324 ->409 -> 80 ->262 -> 645 ->725 -> 249 ->725 -> 194 ->125 -> 194 ->820 -> 194 ->223 -> 61 ->223 -> 706 ->94 -> 85 ->321 -> 278 ->552 -> 490 ->552 -> 278 ->513 -> 278 ->450 -> 237 ->443 -> 130 ->443 -> 130 ->537 -> 104 ->102 -> 104 ->115 -> 104 ->565 -> 130 ->722 -> 206 ->501 -> 206 ->282 -> 200 ->500 -> 200 ->503 -> 480 ->461 -> 510 ->505 -> 510 ->712 -> 510 ->542 -> 510 ->472 -> 510 ->498 -> 448 ->469 -> 447 ->563 -> 447 ->570 -> 481 ->476 -> 481 ->586 -> 481 ->811 -> 475 ->811 -> 481 ->570 -> 494 ->570 -> 455 ->532 -> 455 ->570 -> 481 ->576 -> 477 ->576 -> 454 ->483 -> 411 ->483 -> 411 ->464 -> 411 ->511 -> 453 ->511 -> 411 ->488 -> 298 ->451 -> 298 ->449 -> 452 ->46 -> 452 ->552 -> 278 ->94 -> 706 ->223 -> 194 ->156 -> 194 ->725 -> 295 ->725 -> 580 ->149 -> 440 ->654 -> 440 ->828 -> 603 ->802 -> 603 ->828 -> 829 ->828 -> 833 ->772 -> 814 ->772 -> 833 ->624 -> 630 ->624 -> 833 ->830 -> 833 ->602 -> 813 ->602 -> 714 ->602 -> 808 ->670 -> 640 ->670 -> 794 ->609 -> 764 ->689 -> 621 ->636 -> 628 ->723 -> 621 ->724 -> 621 ->665 -> 629 ->688 -> 685 ->688 -> 766 ->688 -> 684 ->704 -> 767 ->704 -> 767 ->728 -> 678 ->743 -> 693 ->743 -> 693 ->708 -> 709 ->708 -> 302 ->694 -> 302 ->644 -> 681 ->615 -> 681 ->644 -> 616 ->599 -> 639 ->686 -> 696 ->686 -> 598 ->682 -> 668 ->682 -> 730 ->682 -> 598 ->657 -> 775 ->657 -> 613 ->667 -> 527 ->647 -> 606 ->771 -> 571 ->566 -> 571 ->741 -> 740 ->741 -> 652 ->741 -> 650 ->601 -> 807 ->601 -> 643 ->742 -> 643 ->758 -> 568 ->758 -> 661 ->663 -> 379 ->663 -> 379 ->560 -> 248 ->333 -> 166 ->543 -> 212 ->543 -> 212 ->622 -> 611 ->442 -> 611 ->771 -> 606 ->736 -> 527 ->657 -> 598 ->595 -> 142 ->634 -> 128 ->384 -> 113 ->293 -> 274 ->293 -> 2 ->515 -> 2 ->398 -> 2 ->559 -> 2 ->293 -> 405 ->770 -> 757 ->660 -> 757 ->770 -> 573 ->720 -> 573 ->707 -> 633 ->707 -> 639 ->635 -> 737 ->761 -> 737 ->599 -> 711 ->599 -> 691 ->729 -> 618 ->596 -> 619 ->596 -> 656 ->774 -> 656 ->728 -> 765 ->728 -> 765 ->607 -> 302 ->607 -> 617 ->655 -> 727 ->729 -> 618 ->769 -> 618 ->738 -> 731 ->738 -> 651 ->738 -> 651 ->745 -> 651 ->739 -> 573 ->782 -> 573 ->770 -> 296 ->332 -> 405 ->155 -> 378 ->375 -> 133 ->622 -> 277 ->103 -> 166 ->333 -> 226 ->53 -> 318 ->164 -> 44 ->164 -> 44 ->758 -> 138 ->758 -> 402 ->805 -> 238 ->805 -> 394 ->255 -> 394 ->805 -> 367 ->279 -> 367 ->290 -> 514 ->403 -> 116 ->210 -> 116 ->410 -> 260 ->605 -> 400 ->605 -> 383 ->182 -> 56 ->759 -> 109 ->184 -> 109 ->306 -> 109 ->242 -> 109 ->239 -> 88 ->364 -> 244 ->15 -> 244 ->796 -> 562 ->24 -> 562 ->796 -> 162 ->89 -> 77 ->89 -> 11 ->89 -> 16 ->89 -> 162 ->227 -> 57 ->227 -> 4 ->189 -> 798 ->14 -> 798 ->93 -> 798 ->593 -> 798 ->189 -> 809 ->204 -> 335 ->433 -> 751 ->23 -> 751 ->433 -> 162 ->433 -> 335 ->436 -> 283 ->22 -> 338 ->254 -> 264 ->254 -> 174 ->232 -> 174 ->17 -> 273 ->66 -> 773 ->67 -> 546 ->67 -> 703 ->393 -> 703 ->344 -> 78 ->365 -> 78 ->326 -> 75 ->326 -> 351 ->326 -> 95 ->107 -> 95 ->42 -> 95 ->574 -> 73 ->319 -> 3 ->748 -> 31 ->465 -> 31 ->569 -> 31 ->748 -> 717 ->748 -> 717 ->749 -> 699 ->749 -> 21 ->614 -> 718 ->553 -> 718 ->512 -> 445 ->507 -> 578 ->507 -> 479 ->507 -> 578 ->446 -> 444 ->446 -> 444 ->577 -> 485 ->577 -> 485 ->531 -> 719 ->512 -> 399 ->702 -> 486 ->702 -> 40 ->534 -> 322 ->463 -> 322 ->401 -> 122 ->539 -> 39 ->466 -> 3 ->41 -> 408 ->41 -> 3 ->253 -> 73 ->574 -> 126 ->52 -> 126 ->30 -> 54 ->30 -> 579 ->101 -> 579 ->509 -> 194 ->196 -> 194 ->801 -> 194 ->803 -> 194 ->193 -> 194 ->810 -> 194 ->9 -> 10 ->9 -> 194 ->269 -> 732 ->217 -> 587 ->263 -> 587 ->217 -> 732 ->199 -> 732 ->41 -> 55 ->41 -> 55 ->215 -> 340 ->215 -> 579 ->427 -> 579 ->275 -> 579 ->127 -> 579 ->120 -> 579 ->30 -> 126 ->574 -> 140 ->253 -> 32 ->327 -> 3 ->323 -> 3 ->588 -> 251 ->508 -> 251 ->401 -> 322 ->534 -> 132 ->533 -> 132 ->534 -> 40 ->702 -> 390 ->722 -> 130 ->503 -> 561 ->520 -> 491 ->531 -> 491 ->520 -> 491 ->518 -> 763 ->518 -> 522 ->518 -> 510 ->497 -> 487 ->498 -> 499 ->495 -> 530 ->495 -> 523 ->496 -> 526 ->538 -> 526 ->484 -> 789 ->470 -> 789 ->692 -> 783 ->692 -> 789 ->816 -> 785 ->812 -> 788 ->812 -> 790 ->786 -> 784 ->786 -> 790 ->787 -> 785 ->816 -> 789 ->721 -> 789 ->459 -> 517 ->521 -> 474 ->521 -> 517 ->459 -> 789 ->484 -> 547 ->554 -> 526 ->496 -> 523 ->495 -> 516 ->495 -> 499 ->498 -> 468 ->498 -> 510 ->492 -> 460 ->492 -> 467 ->492 -> 510 ->550 -> 561 ->478 -> 715 ->503 -> 130 ->565 -> 104 ->236 -> 104 ->779 -> 732 ->506 -> 87 ->508 -> 251 ->175 -> 251 ->539 -> 122 ->466 -> 58 ->588 -> 3 ->328 -> 140 ->50 -> 331 ->119 -> 331 ->574 -> 95 ->326 -> 544 ->344 -> 112 ->51 -> 773 ->659 -> 773 ->66 -> 273 ->79 -> 273 ->82 -> 273 ->195 -> 273 ->230 -> 197 ->792 -> 377 ->154 -> 173 ->154 -> 374 ->144 -> 336 ->117 -> 334 ->86 -> 815 ->641 -> 252 ->818 -> 334 ->117 -> 441 ->117 -> 347 ->144 -> 374 ->91 -> 284 ->235 -> 272 ->549 -> 272 ->548 -> 272 ->62 -> 371 ->62 -> 272 ->235 -> 374 ->361 -> 377 ->792 -> 420 ->421 -> 420 ->792 -> 197 ->230 -> 273 ->564 -> 273 ->309 -> 819 ->309 -> 388 ->24 -> 388 ->18 -> 335 ->22 -> 338 ->256 -> 338 ->17 ->Distance of the route: 1219647m\n",
      "\n"
     ]
    }
   ],
   "source": [
    "solverTSP = TSPORSolver(keyEdges,edgesDict)\n",
    "solverTSP.solve()"
   ]
  },
  {
   "cell_type": "markdown",
   "metadata": {},
   "source": [
    "While this is an interesting approach, the way we have transformed the problem is limited. In particular it is difficult to solve the problem with multiple vehicles. So we will need to introduce another, albeit less efficient method to solve the problem. "
   ]
  }
 ],
 "metadata": {
  "kernelspec": {
   "display_name": "op",
   "language": "python",
   "name": "op"
  },
  "language_info": {
   "codemirror_mode": {
    "name": "ipython",
    "version": 3
   },
   "file_extension": ".py",
   "mimetype": "text/x-python",
   "name": "python",
   "nbconvert_exporter": "python",
   "pygments_lexer": "ipython3",
   "version": "3.10.5"
  },
  "orig_nbformat": 4
 },
 "nbformat": 4,
 "nbformat_minor": 2
}
