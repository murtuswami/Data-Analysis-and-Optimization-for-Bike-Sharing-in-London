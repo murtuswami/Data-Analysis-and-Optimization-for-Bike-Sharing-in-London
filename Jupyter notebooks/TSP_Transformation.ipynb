{
 "cells": [
  {
   "cell_type": "markdown",
   "metadata": {},
   "source": []
  },
  {
   "cell_type": "markdown",
   "metadata": {},
   "source": [
    "\n"
   ]
  },
  {
   "cell_type": "markdown",
   "metadata": {},
   "source": []
  },
  {
   "cell_type": "code",
   "execution_count": 2,
   "metadata": {},
   "outputs": [
    {
     "ename": "NameError",
     "evalue": "name 'model' is not defined",
     "output_type": "error",
     "traceback": [
      "\u001b[1;31m---------------------------------------------------------------------------\u001b[0m",
      "\u001b[1;31mNameError\u001b[0m                                 Traceback (most recent call last)",
      "\u001b[1;32mc:\\Users\\harsh\\Documents\\Data-Analysis-and-Optimization-for-Bike-Sharing-in-London\\Jupyter notebooks\\TSP_Transformation.ipynb Cell 4\u001b[0m in \u001b[0;36m<cell line: 2>\u001b[1;34m()\u001b[0m\n\u001b[0;32m      <a href='vscode-notebook-cell:/c%3A/Users/harsh/Documents/Data-Analysis-and-Optimization-for-Bike-Sharing-in-London/Jupyter%20notebooks/TSP_Transformation.ipynb#W4sZmlsZQ%3D%3D?line=0'>1</a>\u001b[0m newNodesDict \u001b[39m=\u001b[39m {}\n\u001b[1;32m----> <a href='vscode-notebook-cell:/c%3A/Users/harsh/Documents/Data-Analysis-and-Optimization-for-Bike-Sharing-in-London/Jupyter%20notebooks/TSP_Transformation.ipynb#W4sZmlsZQ%3D%3D?line=1'>2</a>\u001b[0m \u001b[39mfor\u001b[39;00m v \u001b[39min\u001b[39;00m model\u001b[39m.\u001b[39mX:\n\u001b[0;32m      <a href='vscode-notebook-cell:/c%3A/Users/harsh/Documents/Data-Analysis-and-Optimization-for-Bike-Sharing-in-London/Jupyter%20notebooks/TSP_Transformation.ipynb#W4sZmlsZQ%3D%3D?line=2'>3</a>\u001b[0m     \u001b[39mif\u001b[39;00m model\u001b[39m.\u001b[39mX[v]\u001b[39m.\u001b[39mvalue \u001b[39m!=\u001b[39m\u001b[39m0\u001b[39m \u001b[39mand\u001b[39;00m v[\u001b[39m0\u001b[39m] \u001b[39m!=\u001b[39m \u001b[39m\"\u001b[39m\u001b[39m-1\u001b[39m\u001b[39m\"\u001b[39m \u001b[39mand\u001b[39;00m v[\u001b[39m1\u001b[39m] \u001b[39m!=\u001b[39m \u001b[39m\"\u001b[39m\u001b[39m-2\u001b[39m\u001b[39m\"\u001b[39m:\n\u001b[0;32m      <a href='vscode-notebook-cell:/c%3A/Users/harsh/Documents/Data-Analysis-and-Optimization-for-Bike-Sharing-in-London/Jupyter%20notebooks/TSP_Transformation.ipynb#W4sZmlsZQ%3D%3D?line=3'>4</a>\u001b[0m         newNodesDict\u001b[39m.\u001b[39mupdate({( \u001b[39mstr\u001b[39m(v[\u001b[39m0\u001b[39m]), \u001b[39mstr\u001b[39m(v[\u001b[39m1\u001b[39m]) ):\u001b[39mint\u001b[39m(stationEdges\u001b[39m.\u001b[39mloc[v][\u001b[39m'\u001b[39m\u001b[39mweight\u001b[39m\u001b[39m'\u001b[39m])})\n",
      "\u001b[1;31mNameError\u001b[0m: name 'model' is not defined"
     ]
    }
   ],
   "source": []
  },
  {
   "cell_type": "markdown",
   "metadata": {},
   "source": [
    "\n"
   ]
  },
  {
   "cell_type": "markdown",
   "metadata": {},
   "source": [
    "Lets start by building the TSP solver using the Google OR tools interfaces. We start by defining a class that takes the dictionary of nodes and edges as inputs. \n",
    "\n",
    "We then make a function the creates the model data by passing it to the OR tools interface. We pass in the location identifiers as a tuple $(s_n,d_n)$"
   ]
  },
  {
   "cell_type": "code",
   "execution_count": null,
   "metadata": {},
   "outputs": [],
   "source": [
    "\n"
   ]
  },
  {
   "cell_type": "markdown",
   "metadata": {},
   "source": []
  },
  {
   "cell_type": "code",
   "execution_count": 3,
   "metadata": {},
   "outputs": [
    {
     "name": "stderr",
     "output_type": "stream",
     "text": [
      "UsageError: Cell magic `%%add_to` not found.\n"
     ]
    }
   ],
   "source": []
  },
  {
   "cell_type": "markdown",
   "metadata": {},
   "source": []
  },
  {
   "cell_type": "markdown",
   "metadata": {},
   "source": []
  },
  {
   "cell_type": "code",
   "execution_count": null,
   "metadata": {},
   "outputs": [],
   "source": [
    "\n",
    "        "
   ]
  },
  {
   "cell_type": "code",
   "execution_count": null,
   "metadata": {},
   "outputs": [],
   "source": [
    "\n",
    "\n"
   ]
  },
  {
   "cell_type": "markdown",
   "metadata": {},
   "source": [
    "## Solving TSP using google OR pickup and delivery system \n",
    "\n",
    "While creating the model and transformation to solve as a TSP for a single vehicle we discovered that google-OR tools actually has an efficient library for solving problems where edges must be enforced. They describe this problem as the pickup/delivery TSP problem https://developers.google.com/optimization/routing/pickup_delivery. \n"
   ]
  },
  {
   "cell_type": "code",
   "execution_count": null,
   "metadata": {},
   "outputs": [],
   "source": [
    "from ortools.constraint_solver import routing_enums_pb2\n",
    "from ortools.constraint_solver import pywrapcp\n",
    "\n",
    "class TSPORSolver:\n",
    "\n",
    "    def __init__(self,nodes,edges,deliveryEdges,VN):\n",
    "        self.nodes = nodes \n",
    "        self.edges = edges\n",
    "        self.deliveryEdges = deliveryEdges\n",
    "        self.VN = VN\n",
    "\n",
    "    def create_data_model(self):\n",
    "        data = {}\n",
    "        data['locations'] = nodes\n",
    "        data['pickups_deliveries'] = self.deliveryEdges \n",
    "        data['num_vehicles'] = self.VN\n",
    "        data['depot'] = 0\n",
    "        return data\n",
    "\n",
    "    def create_distance_callback(self,data, manager):\n",
    "        distances_ = {}\n",
    "        index_manager_ = manager\n",
    "        for from_counter, from_node in enumerate(data['locations']):\n",
    "            distances_[from_counter] = {}\n",
    "            for to_counter, to_node in enumerate(data['locations']):\n",
    "                if from_counter == to_counter:\n",
    "                    distances_[from_counter][to_counter] = 0\n",
    "                else:\n",
    "                    distances_[from_counter][to_counter] = self.edges.loc[from_node,to_node]        \n",
    "        def distance_callback(from_index, to_index):\n",
    "            from_node = index_manager_.IndexToNode(from_index)\n",
    "            to_node = index_manager_.IndexToNode(to_index)\n",
    "            return distances_[from_node][to_node]\n",
    "        return distance_callback\n",
    "\n",
    "    \"\"\"def print_solution(self,manager, routing, solution):\n",
    "        print('Objective: {}'.format(solution.ObjectiveValue()))\n",
    "        index = routing.Start(0)\n",
    "        plan_output = 'Route:\\n'\n",
    "        route_distance = 0\n",
    "        while not routing.IsEnd(index):\n",
    "            plan_output += ' {} ->'.format(manager.IndexToNode(index))\n",
    "            previous_index = index\n",
    "            index = solution.Value(routing.NextVar(index))\n",
    "            route_distance += routing.GetArcCostForVehicle(previous_index, index, 0)\n",
    "        plan_output += ' {}\\n'.format(manager.IndexToNode(index))\n",
    "        plan_output += 'Objective: {}m\\n'.format(route_distance)\n",
    "        print(plan_output)\n",
    "        \"\"\"\n",
    "    def print_solution(self,data, manager, routing, solution):\n",
    "        \"\"\"Prints solution on console.\"\"\"\n",
    "        print(f'Objective: {solution.ObjectiveValue()}')\n",
    "        max_route_distance = 0\n",
    "        for vehicle_id in range(data['num_vehicles']):\n",
    "            index = routing.Start(vehicle_id)\n",
    "            plan_output = 'Route for vehicle {}:\\n'.format(vehicle_id)\n",
    "            route_distance = 0\n",
    "            while not routing.IsEnd(index):\n",
    "                plan_output += ' {} -> '.format(manager.IndexToNode(index))\n",
    "                previous_index = index\n",
    "                index = solution.Value(routing.NextVar(index))\n",
    "                route_distance += routing.GetArcCostForVehicle(\n",
    "                    previous_index, index, vehicle_id)\n",
    "            plan_output += '{}\\n'.format(manager.IndexToNode(index))\n",
    "            plan_output += 'Distance of the route: {}m\\n'.format(route_distance)\n",
    "            print(plan_output)\n",
    "            max_route_distance = max(route_distance, max_route_distance)\n",
    "        print('Maximum of the route distances: {}m'.format(max_route_distance))\n",
    "\n",
    "    def solve(self):\n",
    "        data = self.create_data_model()\n",
    "        manager = pywrapcp.RoutingIndexManager(len(data['locations']),\n",
    "                                            data['num_vehicles'], data['depot'])\n",
    "        routing = pywrapcp.RoutingModel(manager)\n",
    "\n",
    "        distance_callback = self.create_distance_callback(data, manager)\n",
    "        transit_callback_index = routing.RegisterTransitCallback(distance_callback)\n",
    "\n",
    "        routing.SetArcCostEvaluatorOfAllVehicles(transit_callback_index)\n",
    "\n",
    "        dimension_name = 'Distance'\n",
    "        routing.AddDimension(\n",
    "            transit_callback_index,\n",
    "            0,  # no slack\n",
    "            200000,  # vehicle maximum travel distance\n",
    "            True,  # start cumul to zero\n",
    "            dimension_name)\n",
    "        distance_dimension = routing.GetDimensionOrDie(dimension_name)\n",
    "        distance_dimension.SetGlobalSpanCostCoefficient(100)\n",
    "\n",
    "        \"\"\"\n",
    "        for request in data['pickups_deliveries']:\n",
    "            print(request[0])\n",
    "            pickup_index = manager.NodeToIndex(request[0])\n",
    "            delivery_index = manager.NodeToIndex(request[1])\n",
    "            routing.AddPickupAndDelivery(pickup_index, delivery_index)\n",
    "            routing.solver().Add(\n",
    "                routing.VehicleVar(pickup_index) == routing.VehicleVar(\n",
    "                    delivery_index))\n",
    "            routing.solver().Add(\n",
    "                distance_dimension.CumulVar(pickup_index) <=\n",
    "                distance_dimension.CumulVar(delivery_index))\n",
    "        \"\"\"\n",
    "       \n",
    "\n",
    "        search_parameters = pywrapcp.DefaultRoutingSearchParameters()\n",
    "        search_parameters.first_solution_strategy = (\n",
    "            routing_enums_pb2.FirstSolutionStrategy.AUTOMATIC)\n",
    "        search_parameters.time_limit.seconds= 10\n",
    "\n",
    "\n",
    "        assignment = routing.SolveWithParameters(search_parameters)\n",
    "\n",
    "        if assignment:\n",
    "           return self.print_solution(data,manager, routing, assignment)"
   ]
  },
  {
   "cell_type": "code",
   "execution_count": null,
   "metadata": {},
   "outputs": [],
   "source": [
    "nodes = pd.concat([demand,supply])['id'].to_list()\n",
    "newEdges = []\n",
    "newEdgeWeights = []\n",
    "startGeo = []\n",
    "endGeo = []"
   ]
  },
  {
   "cell_type": "code",
   "execution_count": null,
   "metadata": {},
   "outputs": [],
   "source": [
    "deliveryEdges = []\n",
    "for v in model.X:\n",
    "    if model.X[v].value !=0 and v[0] != \"-1\" and v[1] != \"-2\":\n",
    "        deliveryEdges.append((v[0],v[1]))\n",
    "deliveryEdges[1]"
   ]
  },
  {
   "cell_type": "code",
   "execution_count": null,
   "metadata": {},
   "outputs": [],
   "source": [
    "\n",
    "len(deliveryEdges)\n",
    "d = {}\n",
    "for x in deliveryEdges:\n",
    "    d.update({x[0]: d.get(x[0],0) + 1 })\n",
    "distanceArray = []\n",
    "distances = distances.astype(int)\n",
    "for date, new_df in distances.groupby(level=0):\n",
    "    distanceArray.append(new_df.to_list())\n",
    "distanceArray"
   ]
  },
  {
   "cell_type": "code",
   "execution_count": null,
   "metadata": {},
   "outputs": [],
   "source": [
    "\n",
    "#Reverse Edges \n",
    "for index , row in demand.iterrows():\n",
    "    for i , r in supply.iterrows():\n",
    "        if row['id'] != r['id']:\n",
    "            newEdges.append((row['id'],r['id']))\n",
    "            startGeo.append(row.geometry)\n",
    "            endGeo.append(r.geometry)\n"
   ]
  },
  {
   "cell_type": "code",
   "execution_count": null,
   "metadata": {},
   "outputs": [],
   "source": [
    "for index,row in supply.iterrows():\n",
    "    for i,r in supply.iterrows():\n",
    "        newEdges.append((row['id'],r['id']))\n",
    "        startGeo.append(row.geometry)\n",
    "        endGeo.append(r.geometry)"
   ]
  },
  {
   "cell_type": "code",
   "execution_count": null,
   "metadata": {},
   "outputs": [],
   "source": [
    "for index,row in demand.iterrows():\n",
    "    for i,r in demand.iterrows():\n",
    "        newEdges.append((row['id'],r['id']))\n",
    "        startGeo.append(row.geometry)\n",
    "        endGeo.append(r.geometry)"
   ]
  },
  {
   "cell_type": "code",
   "execution_count": null,
   "metadata": {},
   "outputs": [],
   "source": [
    "index = pd.MultiIndex.from_tuples(newEdges,names =['edgeStart','edgeEnd'])\n",
    "\n",
    "d = {'startPoint': startGeo,'endPoint':endGeo}\n",
    "newEdgesFrame = pd.DataFrame(data=d,index = index)\n",
    "newEdgesFrame.head()"
   ]
  },
  {
   "cell_type": "code",
   "execution_count": null,
   "metadata": {},
   "outputs": [],
   "source": [
    "x =  gpd.GeoSeries(newEdgesFrame['startPoint'],crs=pyproj.CRS(\"EPSG:27700\"))\n",
    "y = gpd.GeoSeries(newEdgesFrame['endPoint'],crs= pyproj.CRS(\"EPSG:27700\"))\n",
    "distances = x.distance(y,align=False)\n",
    "\n",
    "\n",
    "newEdgesFrame['weight'] = distances\n",
    "newEdgesFrame =  newEdgesFrame.drop(\"startPoint\", axis=1)\n",
    "newEdgesFrame = newEdgesFrame.drop(\"endPoint\", axis=1)\n",
    "newEdgesFrame"
   ]
  },
  {
   "cell_type": "code",
   "execution_count": null,
   "metadata": {},
   "outputs": [],
   "source": [
    "VRPEdges = stationEdges['weight']\n",
    "VRPEdges = pd.concat([VRPEdges,newEdgesFrame['weight']])\n",
    "VRPEdges= VRPEdges.astype(int)\n",
    "VRPEdges"
   ]
  },
  {
   "cell_type": "code",
   "execution_count": null,
   "metadata": {},
   "outputs": [],
   "source": [
    "VRPEdges.loc['86', '-2']"
   ]
  }
 ],
 "metadata": {
  "kernelspec": {
   "display_name": "op",
   "language": "python",
   "name": "op"
  },
  "language_info": {
   "codemirror_mode": {
    "name": "ipython",
    "version": 3
   },
   "file_extension": ".py",
   "mimetype": "text/x-python",
   "name": "python",
   "nbconvert_exporter": "python",
   "pygments_lexer": "ipython3",
   "version": "3.10.5"
  },
  "orig_nbformat": 4
 },
 "nbformat": 4,
 "nbformat_minor": 2
}
